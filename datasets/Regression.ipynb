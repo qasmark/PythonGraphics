{
  "cells": [
    {
      "cell_type": "markdown",
      "metadata": {
        "id": "N_juOZb6lQf8"
      },
      "source": [
        "\n",
        "\n",
        "\n",
        "\n",
        "**Занятие 3\n",
        ". Регрессия. Основые термины в машинном обучении.**\n",
        "\n",
        "---"
      ]
    },
    {
      "cell_type": "markdown",
      "metadata": {
        "id": "Rq4CLZsRlmP7"
      },
      "source": [
        "**Среднее значение, медиана и мода**"
      ]
    },
    {
      "cell_type": "markdown",
      "metadata": {
        "id": "sVo_qLpWllgI"
      },
      "source": [
        "\n",
        "Что мы можем узнать, глядя на группу чисел?\n",
        "\n",
        "В машинном обучении (и в математике) нас часто интересуют три значения:\n",
        "\n",
        "* Среднее - среднее значение\n",
        "* Медиана - среднее значение точки\n",
        "* Мода — наиболее распространенное значение."
      ]
    },
    {
      "cell_type": "markdown",
      "metadata": {
        "id": "e7Sd33txsbUs"
      },
      "source": [
        "\n",
        "Чтобы вычислить среднее значение, найдите сумму всех значений и разделите сумму на количество значений:"
      ]
    },
    {
      "cell_type": "code",
      "execution_count": null,
      "metadata": {
        "id": "5V3rjzTYbyaE"
      },
      "outputs": [],
      "source": [
        "speed = [99,86,87,88,111,86,103,87,94,78,77,85,86]"
      ]
    },
    {
      "cell_type": "code",
      "execution_count": null,
      "metadata": {
        "id": "XRNE2tbrpXSQ"
      },
      "outputs": [],
      "source": [
        "len(speed)"
      ]
    },
    {
      "cell_type": "code",
      "execution_count": null,
      "metadata": {
        "id": "Od7ekoWytZWL"
      },
      "outputs": [],
      "source": [
        "(99+86+87+88+111+86+103+87+94+78+77+85+86)/13"
      ]
    },
    {
      "cell_type": "code",
      "execution_count": null,
      "metadata": {
        "id": "iBA_7gY8vj7X"
      },
      "outputs": [],
      "source": [
        "import numpy"
      ]
    },
    {
      "cell_type": "code",
      "execution_count": null,
      "metadata": {
        "id": "pngQTReKyGVT"
      },
      "outputs": [],
      "source": [
        "numpy.mean(speed)"
      ]
    },
    {
      "cell_type": "markdown",
      "metadata": {
        "id": "5ySRwKijyY0O"
      },
      "source": [
        "Медиана это значение, посередине выборки после того, как вы отсортировали все значения по возрастанию"
      ]
    },
    {
      "cell_type": "code",
      "execution_count": null,
      "metadata": {
        "id": "vEkudsqSOsGZ"
      },
      "outputs": [],
      "source": [
        "speed.sort()"
      ]
    },
    {
      "cell_type": "code",
      "execution_count": null,
      "metadata": {
        "id": "TNDZLxxrO9HB"
      },
      "outputs": [],
      "source": [
        "speed"
      ]
    },
    {
      "cell_type": "code",
      "execution_count": null,
      "metadata": {
        "id": "8NGJkZjLySw-"
      },
      "outputs": [],
      "source": [
        "numpy.median(speed)"
      ]
    },
    {
      "cell_type": "markdown",
      "metadata": {
        "id": "lHyJ-PLu0H1j"
      },
      "source": [
        "Мода — это значение, которое появляется в выборке наибольшее количество раз:"
      ]
    },
    {
      "cell_type": "code",
      "execution_count": null,
      "metadata": {
        "id": "8Ffu1M7b0HcD"
      },
      "outputs": [],
      "source": [
        "import statistics\n",
        "\n",
        "x = statistics.mode(speed)\n",
        "\n",
        "print(x)"
      ]
    },
    {
      "cell_type": "markdown",
      "metadata": {
        "id": "0xD758802I-O"
      },
      "source": [
        "**Cтандартное отклонение**"
      ]
    },
    {
      "cell_type": "markdown",
      "metadata": {
        "id": "4OeaCMQh2HhC"
      },
      "source": [
        "\n",
        "Стандартное отклонение — это число, которое описывает, насколько разбросаны значения.\n",
        "\n",
        "Низкое стандартное отклонение означает, что большинство чисел близки к среднему (mean) значению.\n",
        "\n",
        "Высокое стандартное отклонение означает, что значения разбросаны по более широкому диапазону."
      ]
    },
    {
      "cell_type": "code",
      "execution_count": null,
      "metadata": {
        "id": "cVXJsktl1Cgj"
      },
      "outputs": [],
      "source": [
        "speed_1 = [86,87,88,86,87,85,86]"
      ]
    },
    {
      "cell_type": "code",
      "execution_count": null,
      "metadata": {
        "id": "DlNjC7Kj3b6j"
      },
      "outputs": [],
      "source": [
        "numpy.std(speed_1)"
      ]
    },
    {
      "cell_type": "code",
      "execution_count": null,
      "metadata": {
        "id": "0PyaiWyg3YFP"
      },
      "outputs": [],
      "source": [
        "speed_2 = [32,111,138,28,59,77,97]"
      ]
    },
    {
      "cell_type": "code",
      "execution_count": null,
      "metadata": {
        "id": "wiJdERON3kEU"
      },
      "outputs": [],
      "source": [
        "numpy.std(speed_2)"
      ]
    },
    {
      "cell_type": "markdown",
      "metadata": {
        "id": "aeP20fgW33A5"
      },
      "source": [
        "**Перцентили**"
      ]
    },
    {
      "cell_type": "markdown",
      "metadata": {
        "id": "e2mFSlUC4msE"
      },
      "source": [
        "Перцентиль это значение, которое заданная случайная величина не превышает с фиксированной вероятностью, заданной в процентах.\n",
        "\n",
        "Пример: допустим, у нас есть массив возрастов всех людей, живущих на улице."
      ]
    },
    {
      "cell_type": "code",
      "execution_count": null,
      "metadata": {
        "id": "LJ-Kp5Ru36TP"
      },
      "outputs": [],
      "source": [
        "ages = [5,31,43,48,50,41,7,11,15,39,80,82,32,2,8,6,25,36,27,61,31]"
      ]
    },
    {
      "cell_type": "code",
      "execution_count": null,
      "metadata": {
        "id": "k_s7XklY4X4A"
      },
      "outputs": [],
      "source": [
        "x = numpy.percentile(ages, 75)\n",
        "\n",
        "print(x)"
      ]
    },
    {
      "cell_type": "markdown",
      "metadata": {
        "id": "mR4istWo5GSZ"
      },
      "source": [
        "Чему равен 75 процентиль? В данном случае он равен 43, что означает, что 75%  людей живущих на улице моложе 43 лет.\n"
      ]
    },
    {
      "cell_type": "code",
      "execution_count": null,
      "metadata": {
        "id": "Oq7iMPB7Z8pl"
      },
      "outputs": [],
      "source": [
        "numpy.percentile(ages, 90)"
      ]
    },
    {
      "cell_type": "markdown",
      "metadata": {
        "id": "KZvInvqq5csd"
      },
      "source": [
        "**Регрессия**\n",
        "\n",
        "---\n",
        "\n"
      ]
    },
    {
      "cell_type": "markdown",
      "metadata": {
        "id": "ycCu8StB5-Oa"
      },
      "source": [
        "\n",
        "Термин регрессия используется, когда вы пытаетесь найти взаимосвязь между переменными.\n",
        "\n",
        "В машинном обучении и статистическом моделировании эта связь используется для прогнозирования исхода будущих событий."
      ]
    },
    {
      "cell_type": "markdown",
      "metadata": {
        "id": "o9InEN4sWnxG"
      },
      "source": [
        "![img_polynomial_regression.png](data:image/png;base64,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)"
      ]
    },
    {
      "cell_type": "code",
      "execution_count": null,
      "metadata": {
        "id": "QGgr5CNkBSdS"
      },
      "outputs": [],
      "source": [
        "import pandas as pd\n",
        "import numpy as np\n",
        "import matplotlib.pyplot as plt\n",
        "import seaborn as sns\n",
        "from sklearn.linear_model import LogisticRegression\n",
        "from sklearn.model_selection import train_test_split\n",
        "from sklearn import metrics\n",
        "from sklearn.metrics import confusion_matrix\n",
        "from sklearn.svm import SVC"
      ]
    },
    {
      "cell_type": "code",
      "execution_count": null,
      "metadata": {
        "id": "TuF2O24Sa7eo"
      },
      "outputs": [],
      "source": [
        "df_housing = pd.read_csv('https://drive.google.com/uc?id=1D3OXD4lij_2nO1BYtkF-7b045K9gGVfc')"
      ]
    },
    {
      "cell_type": "code",
      "execution_count": null,
      "metadata": {
        "id": "Qm082wwmbG7X"
      },
      "outputs": [],
      "source": [
        "df_housing.head()"
      ]
    },
    {
      "cell_type": "code",
      "execution_count": null,
      "metadata": {
        "id": "EOWtd7fJR_dw"
      },
      "outputs": [],
      "source": [
        "df_housing.info()"
      ]
    },
    {
      "cell_type": "code",
      "execution_count": null,
      "metadata": {
        "id": "FAeIUguRsvb3"
      },
      "outputs": [],
      "source": [
        "df_housing.tail(30)"
      ]
    },
    {
      "cell_type": "code",
      "execution_count": null,
      "metadata": {
        "id": "RwKFI68OgPSg"
      },
      "outputs": [],
      "source": [
        "df_housing['price_th'] = df_housing['price'].apply(lambda x: round((x / 1000), 2))"
      ]
    },
    {
      "cell_type": "code",
      "execution_count": null,
      "metadata": {
        "id": "3SPwQJnxtHip"
      },
      "outputs": [],
      "source": [
        "df_housing.tail(30)"
      ]
    },
    {
      "cell_type": "code",
      "execution_count": null,
      "metadata": {
        "id": "pW0F4l5CtYDs"
      },
      "outputs": [],
      "source": [
        "len(df_housing[df_housing['price_th'] == 0.0])"
      ]
    },
    {
      "cell_type": "code",
      "execution_count": null,
      "metadata": {
        "id": "hQ2FN2dzc8-B"
      },
      "outputs": [],
      "source": [
        "df_housing.waterfront.value_counts()"
      ]
    },
    {
      "cell_type": "code",
      "execution_count": null,
      "metadata": {
        "id": "vts29Pu8dLYU"
      },
      "outputs": [],
      "source": [
        "df_housing.view.value_counts()"
      ]
    },
    {
      "cell_type": "code",
      "execution_count": null,
      "metadata": {
        "id": "GWpPosJodUCq"
      },
      "outputs": [],
      "source": [
        "df_housing.condition.value_counts()"
      ]
    },
    {
      "cell_type": "code",
      "execution_count": null,
      "metadata": {
        "id": "5nl8LjflbLu0"
      },
      "outputs": [],
      "source": [
        "df_housing.columns"
      ]
    },
    {
      "cell_type": "code",
      "execution_count": null,
      "metadata": {
        "id": "WQbbd_N7uIhc"
      },
      "outputs": [],
      "source": [
        "df_housing.city.value_counts()"
      ]
    },
    {
      "cell_type": "code",
      "execution_count": null,
      "metadata": {
        "id": "M2dwDvpcQwSk"
      },
      "outputs": [],
      "source": [
        "df_housing.drop(columns=['date', 'price', 'street', 'statezip', 'country', 'city'], inplace= True)"
      ]
    },
    {
      "cell_type": "code",
      "execution_count": null,
      "metadata": {
        "id": "R2UbLvslu5Fy"
      },
      "outputs": [],
      "source": [
        "df_housing.drop(df_housing[df_housing['price_th'] == 0.0].index, inplace = True)"
      ]
    },
    {
      "cell_type": "code",
      "execution_count": null,
      "metadata": {
        "id": "RNgM1ExqfnVb"
      },
      "outputs": [],
      "source": [
        "df_housing.info()"
      ]
    },
    {
      "cell_type": "code",
      "execution_count": null,
      "metadata": {
        "id": "Kx9icbRGjGoX"
      },
      "outputs": [],
      "source": [
        "df_housing_clean = df_housing.copy()"
      ]
    },
    {
      "cell_type": "code",
      "execution_count": null,
      "metadata": {
        "id": "EaF1n1BHjwce"
      },
      "outputs": [],
      "source": [
        "df_housing_clean"
      ]
    },
    {
      "cell_type": "code",
      "execution_count": null,
      "metadata": {
        "id": "77FrdRpQj6cO"
      },
      "outputs": [],
      "source": [
        "def draw_corr_matrix(df: pd.DataFrame, shape: int): # df-ваш датафрейм, shape - размер матрицы\n",
        "    df = df.corr().copy()\n",
        "    plt.rcParams[\"figure.figsize\"] = shape,shape\n",
        "    plt.imshow(df, cmap ='viridis')\n",
        "\n",
        "\n",
        "    plt.colorbar()\n",
        "\n",
        "    for i in range(df.shape[0]):\n",
        "        for j in range(df.shape[1]):\n",
        "            text = plt.text(j, i, round(float(df.iloc[i, j]),2),\n",
        "                        ha=\"center\", va=\"center\", color=\"r\")\n",
        "\n",
        "    plt.xticks(range(len(df)), df.columns, rotation = 45)\n",
        "\n",
        "\n",
        "    plt.yticks(range(len(df)), df.index)\n",
        "\n",
        "    plt.show()"
      ]
    },
    {
      "cell_type": "code",
      "execution_count": null,
      "metadata": {
        "id": "hijdhL2tj_B2"
      },
      "outputs": [],
      "source": [
        "draw_corr_matrix(df_housing_clean, 8)"
      ]
    },
    {
      "cell_type": "code",
      "execution_count": null,
      "metadata": {
        "id": "gkHpbk-Zmwxx"
      },
      "outputs": [],
      "source": [
        "df_housing_clean.drop(columns=['condition', 'yr_built', 'yr_renovated'], inplace=True)"
      ]
    },
    {
      "cell_type": "code",
      "execution_count": null,
      "metadata": {
        "id": "rjiS9BM0ezYg"
      },
      "outputs": [],
      "source": [
        "df_housing_clean.columns"
      ]
    },
    {
      "cell_type": "code",
      "execution_count": null,
      "metadata": {
        "id": "vksYGzCMkYFI"
      },
      "outputs": [],
      "source": [
        "x = df_housing_clean[['bedrooms', 'bathrooms', 'sqft_living', 'sqft_above', 'sqft_basement']]"
      ]
    },
    {
      "cell_type": "code",
      "execution_count": null,
      "metadata": {
        "id": "dUcNXIleR_nx"
      },
      "outputs": [],
      "source": [
        "x"
      ]
    },
    {
      "cell_type": "code",
      "execution_count": null,
      "metadata": {
        "id": "nCgMLwqykv6-"
      },
      "outputs": [],
      "source": [
        "y = df_housing_clean['price_th']"
      ]
    },
    {
      "cell_type": "code",
      "execution_count": null,
      "metadata": {
        "id": "f_JMWoRiSB7f"
      },
      "outputs": [],
      "source": [
        "y"
      ]
    },
    {
      "cell_type": "code",
      "execution_count": null,
      "metadata": {
        "id": "OZaaFOb1k2sk"
      },
      "outputs": [],
      "source": [
        "x_train, x_test, y_train, y_test = train_test_split(x, y, test_size=0.10, random_state=10)"
      ]
    },
    {
      "cell_type": "code",
      "execution_count": null,
      "metadata": {
        "id": "vTmg8R_hlHmu"
      },
      "outputs": [],
      "source": [
        "len(x_train)"
      ]
    },
    {
      "cell_type": "code",
      "execution_count": null,
      "metadata": {
        "id": "Jn7lKB6alNyV"
      },
      "outputs": [],
      "source": [
        "len(y_train)"
      ]
    },
    {
      "cell_type": "markdown",
      "metadata": {
        "id": "SN2FNFj2nVJo"
      },
      "source": [
        "Линейная регрессия"
      ]
    },
    {
      "cell_type": "code",
      "execution_count": null,
      "metadata": {
        "id": "YEjmUjxTlQde"
      },
      "outputs": [],
      "source": [
        "from sklearn.linear_model import LinearRegression\n",
        "from sklearn.metrics import r2_score"
      ]
    },
    {
      "cell_type": "code",
      "execution_count": null,
      "metadata": {
        "id": "B2TSbiDHlR-U"
      },
      "outputs": [],
      "source": [
        "lr = LinearRegression()"
      ]
    },
    {
      "cell_type": "code",
      "execution_count": null,
      "metadata": {
        "id": "BSWWrlcdmAjG"
      },
      "outputs": [],
      "source": [
        "lr.fit(x_train, y_train)"
      ]
    },
    {
      "cell_type": "code",
      "execution_count": null,
      "metadata": {
        "id": "hXMmsmZOmKEC"
      },
      "outputs": [],
      "source": [
        "r2_score(lr.predict(x_test), y_test)"
      ]
    },
    {
      "cell_type": "markdown",
      "metadata": {
        "id": "b-p1CQ4inZeM"
      },
      "source": [
        "Рандомный лес\n"
      ]
    },
    {
      "cell_type": "code",
      "execution_count": null,
      "metadata": {
        "id": "Ey6YP8tOnqwO"
      },
      "outputs": [],
      "source": [
        "from sklearn.ensemble import RandomForestRegressor"
      ]
    },
    {
      "cell_type": "code",
      "execution_count": null,
      "metadata": {
        "id": "jZN9RXnznoe6"
      },
      "outputs": [],
      "source": [
        "rf = RandomForestRegressor()"
      ]
    },
    {
      "cell_type": "code",
      "execution_count": null,
      "metadata": {
        "id": "UAEk6c4Any-a"
      },
      "outputs": [],
      "source": [
        "rf.fit(x_train, y_train)"
      ]
    },
    {
      "cell_type": "code",
      "execution_count": null,
      "metadata": {
        "id": "74v3LYvgxR49"
      },
      "outputs": [],
      "source": [
        "r2_score(rf.predict(x_test), y_test)"
      ]
    },
    {
      "cell_type": "markdown",
      "metadata": {
        "id": "Mh1E3rMboWCX"
      },
      "source": [
        "Градиентный спуск"
      ]
    },
    {
      "cell_type": "code",
      "execution_count": null,
      "metadata": {
        "id": "IMPsJ-W1oGoO"
      },
      "outputs": [],
      "source": [
        "from sklearn.ensemble import GradientBoostingRegressor"
      ]
    },
    {
      "cell_type": "code",
      "execution_count": null,
      "metadata": {
        "id": "cLdmSYTxoHyP"
      },
      "outputs": [],
      "source": [
        "gb = GradientBoostingRegressor()"
      ]
    },
    {
      "cell_type": "code",
      "execution_count": null,
      "metadata": {
        "id": "XW2Xx4HfoLFu"
      },
      "outputs": [],
      "source": [
        "gb.fit(x_train, y_train)"
      ]
    },
    {
      "cell_type": "code",
      "execution_count": null,
      "metadata": {
        "id": "flkR-P1CoO_4"
      },
      "outputs": [],
      "source": [
        "r2_score(gb.predict(x_test), y_test)"
      ]
    },
    {
      "cell_type": "markdown",
      "metadata": {
        "id": "BhrEdwfPoZQQ"
      },
      "source": [
        "ElasticNet"
      ]
    },
    {
      "cell_type": "code",
      "execution_count": null,
      "metadata": {
        "id": "lQZhxpSDopyT"
      },
      "outputs": [],
      "source": [
        "from sklearn.linear_model import ElasticNet"
      ]
    },
    {
      "cell_type": "code",
      "execution_count": null,
      "metadata": {
        "id": "OsblA91lorZy"
      },
      "outputs": [],
      "source": [
        "el = ElasticNet(max_iter=5000)"
      ]
    },
    {
      "cell_type": "code",
      "execution_count": null,
      "metadata": {
        "id": "IK0aqEMZo0yP"
      },
      "outputs": [],
      "source": [
        "el.fit(x_train, y_train)"
      ]
    },
    {
      "cell_type": "code",
      "execution_count": null,
      "metadata": {
        "id": "DvPXHmZ1o33F"
      },
      "outputs": [],
      "source": [
        "el.score(x_test, y_test)"
      ]
    },
    {
      "cell_type": "markdown",
      "metadata": {
        "id": "BrvxLnsOpLdI"
      },
      "source": [
        "BayesianRidge"
      ]
    },
    {
      "cell_type": "code",
      "execution_count": null,
      "metadata": {
        "id": "Z5dyT3EZo8LH"
      },
      "outputs": [],
      "source": [
        "from sklearn.linear_model import BayesianRidge"
      ]
    },
    {
      "cell_type": "code",
      "execution_count": null,
      "metadata": {
        "id": "mxny04GfpIQJ"
      },
      "outputs": [],
      "source": [
        "br = BayesianRidge()"
      ]
    },
    {
      "cell_type": "code",
      "execution_count": null,
      "metadata": {
        "id": "7zbrNRfbpVrF"
      },
      "outputs": [],
      "source": [
        "br.fit(x_train, y_train)"
      ]
    },
    {
      "cell_type": "code",
      "execution_count": null,
      "metadata": {
        "id": "67xLno1HpX1P"
      },
      "outputs": [],
      "source": [
        "br.score(x_test, y_test)"
      ]
    },
    {
      "cell_type": "markdown",
      "metadata": {
        "id": "xD8j4Q_vU7a5"
      },
      "source": [
        "# Задание №1"
      ]
    },
    {
      "cell_type": "markdown",
      "metadata": {
        "id": "-OSEe72zUyK7"
      },
      "source": [
        "Датасет 2: https://drive.google.com/file/d/1l0VUmXhllUhezGnIvPPuiPAv70e8B-pZ/view?usp=share_link"
      ]
    },
    {
      "cell_type": "markdown",
      "metadata": {
        "id": "lDJMbqYgU5OX"
      },
      "source": [
        "1. Загрузить и очистить датасет, выделить целевую переменную, разделить на обучающие и тестовые выборки\n",
        "2. Реализовать произвольный алгоритм регрессии\n",
        "3. Посчитать score"
      ]
    },
    {
      "cell_type": "code",
      "execution_count": 113,
      "metadata": {
        "id": "_m5gtQU1U5j7"
      },
      "outputs": [],
      "source": [
        "ca_housing = pd.read_csv('https://drive.google.com/uc?id=1l0VUmXhllUhezGnIvPPuiPAv70e8B-pZ')"
      ]
    },
    {
      "cell_type": "code",
      "source": [
        "ca_housing.info()"
      ],
      "metadata": {
        "colab": {
          "base_uri": "https://localhost:8080/",
          "height": 0
        },
        "id": "JT-1rhal9xZq",
        "outputId": "c228fe0f-69af-4e9f-a352-015f15dad9ce"
      },
      "execution_count": 114,
      "outputs": [
        {
          "output_type": "stream",
          "name": "stdout",
          "text": [
            "<class 'pandas.core.frame.DataFrame'>\n",
            "RangeIndex: 20640 entries, 0 to 20639\n",
            "Data columns (total 10 columns):\n",
            " #   Column              Non-Null Count  Dtype  \n",
            "---  ------              --------------  -----  \n",
            " 0   longitude           20640 non-null  float64\n",
            " 1   latitude            20640 non-null  float64\n",
            " 2   housing_median_age  20640 non-null  int64  \n",
            " 3   total_rooms         20640 non-null  int64  \n",
            " 4   total_bedrooms      20433 non-null  float64\n",
            " 5   population          20640 non-null  int64  \n",
            " 6   households          20640 non-null  int64  \n",
            " 7   median_income       20640 non-null  float64\n",
            " 8   median_house_value  20640 non-null  int64  \n",
            " 9   ocean_proximity     20640 non-null  object \n",
            "dtypes: float64(4), int64(5), object(1)\n",
            "memory usage: 1.6+ MB\n"
          ]
        }
      ]
    },
    {
      "cell_type": "code",
      "source": [
        "ca_housing[ca_housing.isna().any(axis=1)]\n"
      ],
      "metadata": {
        "colab": {
          "base_uri": "https://localhost:8080/",
          "height": 423
        },
        "id": "12yCGFb9_oya",
        "outputId": "8d075860-2b52-4e86-ad3f-6e55b8861f66"
      },
      "execution_count": 115,
      "outputs": [
        {
          "output_type": "execute_result",
          "data": {
            "text/plain": [
              "       longitude  latitude  housing_median_age  total_rooms  total_bedrooms  \\\n",
              "290      -122.16     37.77                  47         1256             NaN   \n",
              "341      -122.17     37.75                  38          992             NaN   \n",
              "538      -122.28     37.78                  29         5154             NaN   \n",
              "563      -122.24     37.75                  45          891             NaN   \n",
              "696      -122.10     37.69                  41          746             NaN   \n",
              "...          ...       ...                 ...          ...             ...   \n",
              "20267    -119.19     34.20                  18         3620             NaN   \n",
              "20268    -119.18     34.19                  19         2393             NaN   \n",
              "20372    -118.88     34.17                  15         4260             NaN   \n",
              "20460    -118.75     34.29                  17         5512             NaN   \n",
              "20484    -118.72     34.28                  17         3051             NaN   \n",
              "\n",
              "       population  households  median_income  median_house_value  \\\n",
              "290           570         218         4.3750              161900   \n",
              "341           732         259         1.6196               85100   \n",
              "538          3741        1273         2.5762              173400   \n",
              "563           384         146         4.9489              247100   \n",
              "696           387         161         3.9063              178400   \n",
              "...           ...         ...            ...                 ...   \n",
              "20267        3171         779         3.3409              220500   \n",
              "20268        1938         762         1.6953              167400   \n",
              "20372        1701         669         5.1033              410700   \n",
              "20460        2734         814         6.6073              258100   \n",
              "20484        1705         495         5.7376              218600   \n",
              "\n",
              "      ocean_proximity  \n",
              "290          NEAR BAY  \n",
              "341          NEAR BAY  \n",
              "538          NEAR BAY  \n",
              "563          NEAR BAY  \n",
              "696          NEAR BAY  \n",
              "...               ...  \n",
              "20267      NEAR OCEAN  \n",
              "20268      NEAR OCEAN  \n",
              "20372       <1H OCEAN  \n",
              "20460       <1H OCEAN  \n",
              "20484       <1H OCEAN  \n",
              "\n",
              "[207 rows x 10 columns]"
            ],
            "text/html": [
              "\n",
              "  <div id=\"df-86ecf42c-5720-4f9a-9a01-95503633bc9d\" class=\"colab-df-container\">\n",
              "    <div>\n",
              "<style scoped>\n",
              "    .dataframe tbody tr th:only-of-type {\n",
              "        vertical-align: middle;\n",
              "    }\n",
              "\n",
              "    .dataframe tbody tr th {\n",
              "        vertical-align: top;\n",
              "    }\n",
              "\n",
              "    .dataframe thead th {\n",
              "        text-align: right;\n",
              "    }\n",
              "</style>\n",
              "<table border=\"1\" class=\"dataframe\">\n",
              "  <thead>\n",
              "    <tr style=\"text-align: right;\">\n",
              "      <th></th>\n",
              "      <th>longitude</th>\n",
              "      <th>latitude</th>\n",
              "      <th>housing_median_age</th>\n",
              "      <th>total_rooms</th>\n",
              "      <th>total_bedrooms</th>\n",
              "      <th>population</th>\n",
              "      <th>households</th>\n",
              "      <th>median_income</th>\n",
              "      <th>median_house_value</th>\n",
              "      <th>ocean_proximity</th>\n",
              "    </tr>\n",
              "  </thead>\n",
              "  <tbody>\n",
              "    <tr>\n",
              "      <th>290</th>\n",
              "      <td>-122.16</td>\n",
              "      <td>37.77</td>\n",
              "      <td>47</td>\n",
              "      <td>1256</td>\n",
              "      <td>NaN</td>\n",
              "      <td>570</td>\n",
              "      <td>218</td>\n",
              "      <td>4.3750</td>\n",
              "      <td>161900</td>\n",
              "      <td>NEAR BAY</td>\n",
              "    </tr>\n",
              "    <tr>\n",
              "      <th>341</th>\n",
              "      <td>-122.17</td>\n",
              "      <td>37.75</td>\n",
              "      <td>38</td>\n",
              "      <td>992</td>\n",
              "      <td>NaN</td>\n",
              "      <td>732</td>\n",
              "      <td>259</td>\n",
              "      <td>1.6196</td>\n",
              "      <td>85100</td>\n",
              "      <td>NEAR BAY</td>\n",
              "    </tr>\n",
              "    <tr>\n",
              "      <th>538</th>\n",
              "      <td>-122.28</td>\n",
              "      <td>37.78</td>\n",
              "      <td>29</td>\n",
              "      <td>5154</td>\n",
              "      <td>NaN</td>\n",
              "      <td>3741</td>\n",
              "      <td>1273</td>\n",
              "      <td>2.5762</td>\n",
              "      <td>173400</td>\n",
              "      <td>NEAR BAY</td>\n",
              "    </tr>\n",
              "    <tr>\n",
              "      <th>563</th>\n",
              "      <td>-122.24</td>\n",
              "      <td>37.75</td>\n",
              "      <td>45</td>\n",
              "      <td>891</td>\n",
              "      <td>NaN</td>\n",
              "      <td>384</td>\n",
              "      <td>146</td>\n",
              "      <td>4.9489</td>\n",
              "      <td>247100</td>\n",
              "      <td>NEAR BAY</td>\n",
              "    </tr>\n",
              "    <tr>\n",
              "      <th>696</th>\n",
              "      <td>-122.10</td>\n",
              "      <td>37.69</td>\n",
              "      <td>41</td>\n",
              "      <td>746</td>\n",
              "      <td>NaN</td>\n",
              "      <td>387</td>\n",
              "      <td>161</td>\n",
              "      <td>3.9063</td>\n",
              "      <td>178400</td>\n",
              "      <td>NEAR BAY</td>\n",
              "    </tr>\n",
              "    <tr>\n",
              "      <th>...</th>\n",
              "      <td>...</td>\n",
              "      <td>...</td>\n",
              "      <td>...</td>\n",
              "      <td>...</td>\n",
              "      <td>...</td>\n",
              "      <td>...</td>\n",
              "      <td>...</td>\n",
              "      <td>...</td>\n",
              "      <td>...</td>\n",
              "      <td>...</td>\n",
              "    </tr>\n",
              "    <tr>\n",
              "      <th>20267</th>\n",
              "      <td>-119.19</td>\n",
              "      <td>34.20</td>\n",
              "      <td>18</td>\n",
              "      <td>3620</td>\n",
              "      <td>NaN</td>\n",
              "      <td>3171</td>\n",
              "      <td>779</td>\n",
              "      <td>3.3409</td>\n",
              "      <td>220500</td>\n",
              "      <td>NEAR OCEAN</td>\n",
              "    </tr>\n",
              "    <tr>\n",
              "      <th>20268</th>\n",
              "      <td>-119.18</td>\n",
              "      <td>34.19</td>\n",
              "      <td>19</td>\n",
              "      <td>2393</td>\n",
              "      <td>NaN</td>\n",
              "      <td>1938</td>\n",
              "      <td>762</td>\n",
              "      <td>1.6953</td>\n",
              "      <td>167400</td>\n",
              "      <td>NEAR OCEAN</td>\n",
              "    </tr>\n",
              "    <tr>\n",
              "      <th>20372</th>\n",
              "      <td>-118.88</td>\n",
              "      <td>34.17</td>\n",
              "      <td>15</td>\n",
              "      <td>4260</td>\n",
              "      <td>NaN</td>\n",
              "      <td>1701</td>\n",
              "      <td>669</td>\n",
              "      <td>5.1033</td>\n",
              "      <td>410700</td>\n",
              "      <td>&lt;1H OCEAN</td>\n",
              "    </tr>\n",
              "    <tr>\n",
              "      <th>20460</th>\n",
              "      <td>-118.75</td>\n",
              "      <td>34.29</td>\n",
              "      <td>17</td>\n",
              "      <td>5512</td>\n",
              "      <td>NaN</td>\n",
              "      <td>2734</td>\n",
              "      <td>814</td>\n",
              "      <td>6.6073</td>\n",
              "      <td>258100</td>\n",
              "      <td>&lt;1H OCEAN</td>\n",
              "    </tr>\n",
              "    <tr>\n",
              "      <th>20484</th>\n",
              "      <td>-118.72</td>\n",
              "      <td>34.28</td>\n",
              "      <td>17</td>\n",
              "      <td>3051</td>\n",
              "      <td>NaN</td>\n",
              "      <td>1705</td>\n",
              "      <td>495</td>\n",
              "      <td>5.7376</td>\n",
              "      <td>218600</td>\n",
              "      <td>&lt;1H OCEAN</td>\n",
              "    </tr>\n",
              "  </tbody>\n",
              "</table>\n",
              "<p>207 rows × 10 columns</p>\n",
              "</div>\n",
              "    <div class=\"colab-df-buttons\">\n",
              "\n",
              "  <div class=\"colab-df-container\">\n",
              "    <button class=\"colab-df-convert\" onclick=\"convertToInteractive('df-86ecf42c-5720-4f9a-9a01-95503633bc9d')\"\n",
              "            title=\"Convert this dataframe to an interactive table.\"\n",
              "            style=\"display:none;\">\n",
              "\n",
              "  <svg xmlns=\"http://www.w3.org/2000/svg\" height=\"24px\" viewBox=\"0 -960 960 960\">\n",
              "    <path d=\"M120-120v-720h720v720H120Zm60-500h600v-160H180v160Zm220 220h160v-160H400v160Zm0 220h160v-160H400v160ZM180-400h160v-160H180v160Zm440 0h160v-160H620v160ZM180-180h160v-160H180v160Zm440 0h160v-160H620v160Z\"/>\n",
              "  </svg>\n",
              "    </button>\n",
              "\n",
              "  <style>\n",
              "    .colab-df-container {\n",
              "      display:flex;\n",
              "      gap: 12px;\n",
              "    }\n",
              "\n",
              "    .colab-df-convert {\n",
              "      background-color: #E8F0FE;\n",
              "      border: none;\n",
              "      border-radius: 50%;\n",
              "      cursor: pointer;\n",
              "      display: none;\n",
              "      fill: #1967D2;\n",
              "      height: 32px;\n",
              "      padding: 0 0 0 0;\n",
              "      width: 32px;\n",
              "    }\n",
              "\n",
              "    .colab-df-convert:hover {\n",
              "      background-color: #E2EBFA;\n",
              "      box-shadow: 0px 1px 2px rgba(60, 64, 67, 0.3), 0px 1px 3px 1px rgba(60, 64, 67, 0.15);\n",
              "      fill: #174EA6;\n",
              "    }\n",
              "\n",
              "    .colab-df-buttons div {\n",
              "      margin-bottom: 4px;\n",
              "    }\n",
              "\n",
              "    [theme=dark] .colab-df-convert {\n",
              "      background-color: #3B4455;\n",
              "      fill: #D2E3FC;\n",
              "    }\n",
              "\n",
              "    [theme=dark] .colab-df-convert:hover {\n",
              "      background-color: #434B5C;\n",
              "      box-shadow: 0px 1px 3px 1px rgba(0, 0, 0, 0.15);\n",
              "      filter: drop-shadow(0px 1px 2px rgba(0, 0, 0, 0.3));\n",
              "      fill: #FFFFFF;\n",
              "    }\n",
              "  </style>\n",
              "\n",
              "    <script>\n",
              "      const buttonEl =\n",
              "        document.querySelector('#df-86ecf42c-5720-4f9a-9a01-95503633bc9d button.colab-df-convert');\n",
              "      buttonEl.style.display =\n",
              "        google.colab.kernel.accessAllowed ? 'block' : 'none';\n",
              "\n",
              "      async function convertToInteractive(key) {\n",
              "        const element = document.querySelector('#df-86ecf42c-5720-4f9a-9a01-95503633bc9d');\n",
              "        const dataTable =\n",
              "          await google.colab.kernel.invokeFunction('convertToInteractive',\n",
              "                                                    [key], {});\n",
              "        if (!dataTable) return;\n",
              "\n",
              "        const docLinkHtml = 'Like what you see? Visit the ' +\n",
              "          '<a target=\"_blank\" href=https://colab.research.google.com/notebooks/data_table.ipynb>data table notebook</a>'\n",
              "          + ' to learn more about interactive tables.';\n",
              "        element.innerHTML = '';\n",
              "        dataTable['output_type'] = 'display_data';\n",
              "        await google.colab.output.renderOutput(dataTable, element);\n",
              "        const docLink = document.createElement('div');\n",
              "        docLink.innerHTML = docLinkHtml;\n",
              "        element.appendChild(docLink);\n",
              "      }\n",
              "    </script>\n",
              "  </div>\n",
              "\n",
              "\n",
              "<div id=\"df-6b0eb759-6c98-4dce-ad3f-c2d02a739a73\">\n",
              "  <button class=\"colab-df-quickchart\" onclick=\"quickchart('df-6b0eb759-6c98-4dce-ad3f-c2d02a739a73')\"\n",
              "            title=\"Suggest charts\"\n",
              "            style=\"display:none;\">\n",
              "\n",
              "<svg xmlns=\"http://www.w3.org/2000/svg\" height=\"24px\"viewBox=\"0 0 24 24\"\n",
              "     width=\"24px\">\n",
              "    <g>\n",
              "        <path d=\"M19 3H5c-1.1 0-2 .9-2 2v14c0 1.1.9 2 2 2h14c1.1 0 2-.9 2-2V5c0-1.1-.9-2-2-2zM9 17H7v-7h2v7zm4 0h-2V7h2v10zm4 0h-2v-4h2v4z\"/>\n",
              "    </g>\n",
              "</svg>\n",
              "  </button>\n",
              "\n",
              "<style>\n",
              "  .colab-df-quickchart {\n",
              "      --bg-color: #E8F0FE;\n",
              "      --fill-color: #1967D2;\n",
              "      --hover-bg-color: #E2EBFA;\n",
              "      --hover-fill-color: #174EA6;\n",
              "      --disabled-fill-color: #AAA;\n",
              "      --disabled-bg-color: #DDD;\n",
              "  }\n",
              "\n",
              "  [theme=dark] .colab-df-quickchart {\n",
              "      --bg-color: #3B4455;\n",
              "      --fill-color: #D2E3FC;\n",
              "      --hover-bg-color: #434B5C;\n",
              "      --hover-fill-color: #FFFFFF;\n",
              "      --disabled-bg-color: #3B4455;\n",
              "      --disabled-fill-color: #666;\n",
              "  }\n",
              "\n",
              "  .colab-df-quickchart {\n",
              "    background-color: var(--bg-color);\n",
              "    border: none;\n",
              "    border-radius: 50%;\n",
              "    cursor: pointer;\n",
              "    display: none;\n",
              "    fill: var(--fill-color);\n",
              "    height: 32px;\n",
              "    padding: 0;\n",
              "    width: 32px;\n",
              "  }\n",
              "\n",
              "  .colab-df-quickchart:hover {\n",
              "    background-color: var(--hover-bg-color);\n",
              "    box-shadow: 0 1px 2px rgba(60, 64, 67, 0.3), 0 1px 3px 1px rgba(60, 64, 67, 0.15);\n",
              "    fill: var(--button-hover-fill-color);\n",
              "  }\n",
              "\n",
              "  .colab-df-quickchart-complete:disabled,\n",
              "  .colab-df-quickchart-complete:disabled:hover {\n",
              "    background-color: var(--disabled-bg-color);\n",
              "    fill: var(--disabled-fill-color);\n",
              "    box-shadow: none;\n",
              "  }\n",
              "\n",
              "  .colab-df-spinner {\n",
              "    border: 2px solid var(--fill-color);\n",
              "    border-color: transparent;\n",
              "    border-bottom-color: var(--fill-color);\n",
              "    animation:\n",
              "      spin 1s steps(1) infinite;\n",
              "  }\n",
              "\n",
              "  @keyframes spin {\n",
              "    0% {\n",
              "      border-color: transparent;\n",
              "      border-bottom-color: var(--fill-color);\n",
              "      border-left-color: var(--fill-color);\n",
              "    }\n",
              "    20% {\n",
              "      border-color: transparent;\n",
              "      border-left-color: var(--fill-color);\n",
              "      border-top-color: var(--fill-color);\n",
              "    }\n",
              "    30% {\n",
              "      border-color: transparent;\n",
              "      border-left-color: var(--fill-color);\n",
              "      border-top-color: var(--fill-color);\n",
              "      border-right-color: var(--fill-color);\n",
              "    }\n",
              "    40% {\n",
              "      border-color: transparent;\n",
              "      border-right-color: var(--fill-color);\n",
              "      border-top-color: var(--fill-color);\n",
              "    }\n",
              "    60% {\n",
              "      border-color: transparent;\n",
              "      border-right-color: var(--fill-color);\n",
              "    }\n",
              "    80% {\n",
              "      border-color: transparent;\n",
              "      border-right-color: var(--fill-color);\n",
              "      border-bottom-color: var(--fill-color);\n",
              "    }\n",
              "    90% {\n",
              "      border-color: transparent;\n",
              "      border-bottom-color: var(--fill-color);\n",
              "    }\n",
              "  }\n",
              "</style>\n",
              "\n",
              "  <script>\n",
              "    async function quickchart(key) {\n",
              "      const quickchartButtonEl =\n",
              "        document.querySelector('#' + key + ' button');\n",
              "      quickchartButtonEl.disabled = true;  // To prevent multiple clicks.\n",
              "      quickchartButtonEl.classList.add('colab-df-spinner');\n",
              "      try {\n",
              "        const charts = await google.colab.kernel.invokeFunction(\n",
              "            'suggestCharts', [key], {});\n",
              "      } catch (error) {\n",
              "        console.error('Error during call to suggestCharts:', error);\n",
              "      }\n",
              "      quickchartButtonEl.classList.remove('colab-df-spinner');\n",
              "      quickchartButtonEl.classList.add('colab-df-quickchart-complete');\n",
              "    }\n",
              "    (() => {\n",
              "      let quickchartButtonEl =\n",
              "        document.querySelector('#df-6b0eb759-6c98-4dce-ad3f-c2d02a739a73 button');\n",
              "      quickchartButtonEl.style.display =\n",
              "        google.colab.kernel.accessAllowed ? 'block' : 'none';\n",
              "    })();\n",
              "  </script>\n",
              "</div>\n",
              "    </div>\n",
              "  </div>\n"
            ],
            "application/vnd.google.colaboratory.intrinsic+json": {
              "type": "dataframe",
              "summary": "{\n  \"name\": \"ca_housing[ca_housing\",\n  \"rows\": 207,\n  \"fields\": [\n    {\n      \"column\": \"longitude\",\n      \"properties\": {\n        \"dtype\": \"number\",\n        \"std\": 2.001423938482287,\n        \"min\": -124.13,\n        \"max\": -114.59,\n        \"num_unique_values\": 154,\n        \"samples\": [\n          -119.69,\n          -117.28,\n          -118.75\n        ],\n        \"semantic_type\": \"\",\n        \"description\": \"\"\n      }\n    },\n    {\n      \"column\": \"latitude\",\n      \"properties\": {\n        \"dtype\": \"number\",\n        \"std\": 2.0972977761000147,\n        \"min\": 32.66,\n        \"max\": 40.92,\n        \"num_unique_values\": 141,\n        \"samples\": [\n          33.51,\n          34.44,\n          34.13\n        ],\n        \"semantic_type\": \"\",\n        \"description\": \"\"\n      }\n    },\n    {\n      \"column\": \"housing_median_age\",\n      \"properties\": {\n        \"dtype\": \"number\",\n        \"std\": 11,\n        \"min\": 4,\n        \"max\": 52,\n        \"num_unique_values\": 48,\n        \"samples\": [\n          42,\n          12,\n          44\n        ],\n        \"semantic_type\": \"\",\n        \"description\": \"\"\n      }\n    },\n    {\n      \"column\": \"total_rooms\",\n      \"properties\": {\n        \"dtype\": \"number\",\n        \"std\": 1787,\n        \"min\": 154,\n        \"max\": 11709,\n        \"num_unique_values\": 205,\n        \"samples\": [\n          1098,\n          3741,\n          1121\n        ],\n        \"semantic_type\": \"\",\n        \"description\": \"\"\n      }\n    },\n    {\n      \"column\": \"total_bedrooms\",\n      \"properties\": {\n        \"dtype\": \"number\",\n        \"std\": null,\n        \"min\": null,\n        \"max\": null,\n        \"num_unique_values\": 0,\n        \"samples\": [],\n        \"semantic_type\": \"\",\n        \"description\": \"\"\n      }\n    },\n    {\n      \"column\": \"population\",\n      \"properties\": {\n        \"dtype\": \"number\",\n        \"std\": 1057,\n        \"min\": 37,\n        \"max\": 7604,\n        \"num_unique_values\": 200,\n        \"samples\": [],\n        \"semantic_type\": \"\",\n        \"description\": \"\"\n      }\n    },\n    {\n      \"column\": \"households\",\n      \"properties\": {\n        \"dtype\": \"number\",\n        \"std\": 386,\n        \"min\": 16,\n        \"max\": 3589,\n        \"num_unique_values\": 179,\n        \"samples\": [],\n        \"semantic_type\": \"\",\n        \"description\": \"\"\n      }\n    },\n    {\n      \"column\": \"median_income\",\n      \"properties\": {\n        \"dtype\": \"number\",\n        \"std\": 1.955594687430046,\n        \"min\": 0.8527,\n        \"max\": 15.0001,\n        \"num_unique_values\": 204,\n        \"samples\": [],\n        \"semantic_type\": \"\",\n        \"description\": \"\"\n      }\n    },\n    {\n      \"column\": \"median_house_value\",\n      \"properties\": {\n        \"dtype\": \"number\",\n        \"std\": 111638,\n        \"min\": 45800,\n        \"max\": 500001,\n        \"num_unique_values\": 194,\n        \"samples\": [],\n        \"semantic_type\": \"\",\n        \"description\": \"\"\n      }\n    },\n    {\n      \"column\": \"ocean_proximity\",\n      \"properties\": {\n        \"dtype\": \"category\",\n        \"num_unique_values\": 4,\n        \"samples\": [],\n        \"semantic_type\": \"\",\n        \"description\": \"\"\n      }\n    }\n  ]\n}"
            }
          },
          "metadata": {},
          "execution_count": 115
        }
      ]
    },
    {
      "cell_type": "code",
      "source": [
        "ca_housing.isnull().sum()"
      ],
      "metadata": {
        "colab": {
          "base_uri": "https://localhost:8080/",
          "height": 397
        },
        "id": "uw5y5c3s_8L0",
        "outputId": "de40775e-7b10-423a-aaf6-2216c1041ecf"
      },
      "execution_count": 116,
      "outputs": [
        {
          "output_type": "execute_result",
          "data": {
            "text/plain": [
              "longitude               0\n",
              "latitude                0\n",
              "housing_median_age      0\n",
              "total_rooms             0\n",
              "total_bedrooms        207\n",
              "population              0\n",
              "households              0\n",
              "median_income           0\n",
              "median_house_value      0\n",
              "ocean_proximity         0\n",
              "dtype: int64"
            ],
            "text/html": [
              "<div>\n",
              "<style scoped>\n",
              "    .dataframe tbody tr th:only-of-type {\n",
              "        vertical-align: middle;\n",
              "    }\n",
              "\n",
              "    .dataframe tbody tr th {\n",
              "        vertical-align: top;\n",
              "    }\n",
              "\n",
              "    .dataframe thead th {\n",
              "        text-align: right;\n",
              "    }\n",
              "</style>\n",
              "<table border=\"1\" class=\"dataframe\">\n",
              "  <thead>\n",
              "    <tr style=\"text-align: right;\">\n",
              "      <th></th>\n",
              "      <th>0</th>\n",
              "    </tr>\n",
              "  </thead>\n",
              "  <tbody>\n",
              "    <tr>\n",
              "      <th>longitude</th>\n",
              "      <td>0</td>\n",
              "    </tr>\n",
              "    <tr>\n",
              "      <th>latitude</th>\n",
              "      <td>0</td>\n",
              "    </tr>\n",
              "    <tr>\n",
              "      <th>housing_median_age</th>\n",
              "      <td>0</td>\n",
              "    </tr>\n",
              "    <tr>\n",
              "      <th>total_rooms</th>\n",
              "      <td>0</td>\n",
              "    </tr>\n",
              "    <tr>\n",
              "      <th>total_bedrooms</th>\n",
              "      <td>207</td>\n",
              "    </tr>\n",
              "    <tr>\n",
              "      <th>population</th>\n",
              "      <td>0</td>\n",
              "    </tr>\n",
              "    <tr>\n",
              "      <th>households</th>\n",
              "      <td>0</td>\n",
              "    </tr>\n",
              "    <tr>\n",
              "      <th>median_income</th>\n",
              "      <td>0</td>\n",
              "    </tr>\n",
              "    <tr>\n",
              "      <th>median_house_value</th>\n",
              "      <td>0</td>\n",
              "    </tr>\n",
              "    <tr>\n",
              "      <th>ocean_proximity</th>\n",
              "      <td>0</td>\n",
              "    </tr>\n",
              "  </tbody>\n",
              "</table>\n",
              "</div><br><label><b>dtype:</b> int64</label>"
            ]
          },
          "metadata": {},
          "execution_count": 116
        }
      ]
    },
    {
      "cell_type": "code",
      "source": [
        "ca_housing.total_bedrooms = ca_housing.total_bedrooms.fillna(ca_housing.total_bedrooms.median())\n",
        "ca_housing.isnull().sum()"
      ],
      "metadata": {
        "colab": {
          "base_uri": "https://localhost:8080/",
          "height": 397
        },
        "id": "ao3NFBqkE1Ar",
        "outputId": "c8fcd213-788e-4547-cc9f-793ca16c2195"
      },
      "execution_count": 117,
      "outputs": [
        {
          "output_type": "execute_result",
          "data": {
            "text/plain": [
              "longitude             0\n",
              "latitude              0\n",
              "housing_median_age    0\n",
              "total_rooms           0\n",
              "total_bedrooms        0\n",
              "population            0\n",
              "households            0\n",
              "median_income         0\n",
              "median_house_value    0\n",
              "ocean_proximity       0\n",
              "dtype: int64"
            ],
            "text/html": [
              "<div>\n",
              "<style scoped>\n",
              "    .dataframe tbody tr th:only-of-type {\n",
              "        vertical-align: middle;\n",
              "    }\n",
              "\n",
              "    .dataframe tbody tr th {\n",
              "        vertical-align: top;\n",
              "    }\n",
              "\n",
              "    .dataframe thead th {\n",
              "        text-align: right;\n",
              "    }\n",
              "</style>\n",
              "<table border=\"1\" class=\"dataframe\">\n",
              "  <thead>\n",
              "    <tr style=\"text-align: right;\">\n",
              "      <th></th>\n",
              "      <th>0</th>\n",
              "    </tr>\n",
              "  </thead>\n",
              "  <tbody>\n",
              "    <tr>\n",
              "      <th>longitude</th>\n",
              "      <td>0</td>\n",
              "    </tr>\n",
              "    <tr>\n",
              "      <th>latitude</th>\n",
              "      <td>0</td>\n",
              "    </tr>\n",
              "    <tr>\n",
              "      <th>housing_median_age</th>\n",
              "      <td>0</td>\n",
              "    </tr>\n",
              "    <tr>\n",
              "      <th>total_rooms</th>\n",
              "      <td>0</td>\n",
              "    </tr>\n",
              "    <tr>\n",
              "      <th>total_bedrooms</th>\n",
              "      <td>0</td>\n",
              "    </tr>\n",
              "    <tr>\n",
              "      <th>population</th>\n",
              "      <td>0</td>\n",
              "    </tr>\n",
              "    <tr>\n",
              "      <th>households</th>\n",
              "      <td>0</td>\n",
              "    </tr>\n",
              "    <tr>\n",
              "      <th>median_income</th>\n",
              "      <td>0</td>\n",
              "    </tr>\n",
              "    <tr>\n",
              "      <th>median_house_value</th>\n",
              "      <td>0</td>\n",
              "    </tr>\n",
              "    <tr>\n",
              "      <th>ocean_proximity</th>\n",
              "      <td>0</td>\n",
              "    </tr>\n",
              "  </tbody>\n",
              "</table>\n",
              "</div><br><label><b>dtype:</b> int64</label>"
            ]
          },
          "metadata": {},
          "execution_count": 117
        }
      ]
    },
    {
      "cell_type": "code",
      "source": [
        "ca_housing.ocean_proximity.value_counts()"
      ],
      "metadata": {
        "colab": {
          "base_uri": "https://localhost:8080/",
          "height": 272
        },
        "id": "U2U1CmTvFNOD",
        "outputId": "7f3507b3-1a2f-4e54-d69c-e9e6c6bc580e"
      },
      "execution_count": 118,
      "outputs": [
        {
          "output_type": "execute_result",
          "data": {
            "text/plain": [
              "ocean_proximity\n",
              "<1H OCEAN     9136\n",
              "INLAND        6551\n",
              "NEAR OCEAN    2658\n",
              "NEAR BAY      2290\n",
              "ISLAND           5\n",
              "Name: count, dtype: int64"
            ],
            "text/html": [
              "<div>\n",
              "<style scoped>\n",
              "    .dataframe tbody tr th:only-of-type {\n",
              "        vertical-align: middle;\n",
              "    }\n",
              "\n",
              "    .dataframe tbody tr th {\n",
              "        vertical-align: top;\n",
              "    }\n",
              "\n",
              "    .dataframe thead th {\n",
              "        text-align: right;\n",
              "    }\n",
              "</style>\n",
              "<table border=\"1\" class=\"dataframe\">\n",
              "  <thead>\n",
              "    <tr style=\"text-align: right;\">\n",
              "      <th></th>\n",
              "      <th>count</th>\n",
              "    </tr>\n",
              "    <tr>\n",
              "      <th>ocean_proximity</th>\n",
              "      <th></th>\n",
              "    </tr>\n",
              "  </thead>\n",
              "  <tbody>\n",
              "    <tr>\n",
              "      <th>&lt;1H OCEAN</th>\n",
              "      <td>9136</td>\n",
              "    </tr>\n",
              "    <tr>\n",
              "      <th>INLAND</th>\n",
              "      <td>6551</td>\n",
              "    </tr>\n",
              "    <tr>\n",
              "      <th>NEAR OCEAN</th>\n",
              "      <td>2658</td>\n",
              "    </tr>\n",
              "    <tr>\n",
              "      <th>NEAR BAY</th>\n",
              "      <td>2290</td>\n",
              "    </tr>\n",
              "    <tr>\n",
              "      <th>ISLAND</th>\n",
              "      <td>5</td>\n",
              "    </tr>\n",
              "  </tbody>\n",
              "</table>\n",
              "</div><br><label><b>dtype:</b> int64</label>"
            ]
          },
          "metadata": {},
          "execution_count": 118
        }
      ]
    },
    {
      "cell_type": "markdown",
      "source": [
        "Целевым показателем будет нахождение дома (в какой именно местности)"
      ],
      "metadata": {
        "id": "MmqNLUZdFT78"
      }
    },
    {
      "cell_type": "code",
      "source": [
        "replace_dict = {\n",
        "    \"<1H OCEAN\": 1,\n",
        "    \"INLAND\": 2,\n",
        "    \"NEAR OCEAN\": 3,\n",
        "    \"NEAR BAY\": 4,\n",
        "    \"ISLAND\": 5\n",
        "}\n",
        "\n",
        "ca_housing.loc[:, 'ocean_proximity'] = ca_housing['ocean_proximity'].map(replace_dict)\n",
        "ca_housing.head(10)"
      ],
      "metadata": {
        "colab": {
          "base_uri": "https://localhost:8080/",
          "height": 363
        },
        "id": "YV3Vr7pbH_Rs",
        "outputId": "35ec1330-5b10-4a64-98bc-b777104dc5ae"
      },
      "execution_count": 124,
      "outputs": [
        {
          "output_type": "execute_result",
          "data": {
            "text/plain": [
              "   longitude  latitude  housing_median_age  total_rooms  total_bedrooms  \\\n",
              "0    -122.23     37.88                  41          880           129.0   \n",
              "1    -122.22     37.86                  21         7099          1106.0   \n",
              "2    -122.24     37.85                  52         1467           190.0   \n",
              "3    -122.25     37.85                  52         1274           235.0   \n",
              "4    -122.25     37.85                  52         1627           280.0   \n",
              "5    -122.25     37.85                  52          919           213.0   \n",
              "6    -122.25     37.84                  52         2535           489.0   \n",
              "7    -122.25     37.84                  52         3104           687.0   \n",
              "8    -122.26     37.84                  42         2555           665.0   \n",
              "9    -122.25     37.84                  52         3549           707.0   \n",
              "\n",
              "   population  households  median_income  median_house_value ocean_proximity  \n",
              "0         322         126         8.3252              452600               4  \n",
              "1        2401        1138         8.3014              358500               4  \n",
              "2         496         177         7.2574              352100               4  \n",
              "3         558         219         5.6431              341300               4  \n",
              "4         565         259         3.8462              342200               4  \n",
              "5         413         193         4.0368              269700               4  \n",
              "6        1094         514         3.6591              299200               4  \n",
              "7        1157         647         3.1200              241400               4  \n",
              "8        1206         595         2.0804              226700               4  \n",
              "9        1551         714         3.6912              261100               4  "
            ],
            "text/html": [
              "\n",
              "  <div id=\"df-e2e6b6f7-abb4-4613-b202-71351f0510bf\" class=\"colab-df-container\">\n",
              "    <div>\n",
              "<style scoped>\n",
              "    .dataframe tbody tr th:only-of-type {\n",
              "        vertical-align: middle;\n",
              "    }\n",
              "\n",
              "    .dataframe tbody tr th {\n",
              "        vertical-align: top;\n",
              "    }\n",
              "\n",
              "    .dataframe thead th {\n",
              "        text-align: right;\n",
              "    }\n",
              "</style>\n",
              "<table border=\"1\" class=\"dataframe\">\n",
              "  <thead>\n",
              "    <tr style=\"text-align: right;\">\n",
              "      <th></th>\n",
              "      <th>longitude</th>\n",
              "      <th>latitude</th>\n",
              "      <th>housing_median_age</th>\n",
              "      <th>total_rooms</th>\n",
              "      <th>total_bedrooms</th>\n",
              "      <th>population</th>\n",
              "      <th>households</th>\n",
              "      <th>median_income</th>\n",
              "      <th>median_house_value</th>\n",
              "      <th>ocean_proximity</th>\n",
              "    </tr>\n",
              "  </thead>\n",
              "  <tbody>\n",
              "    <tr>\n",
              "      <th>0</th>\n",
              "      <td>-122.23</td>\n",
              "      <td>37.88</td>\n",
              "      <td>41</td>\n",
              "      <td>880</td>\n",
              "      <td>129.0</td>\n",
              "      <td>322</td>\n",
              "      <td>126</td>\n",
              "      <td>8.3252</td>\n",
              "      <td>452600</td>\n",
              "      <td>4</td>\n",
              "    </tr>\n",
              "    <tr>\n",
              "      <th>1</th>\n",
              "      <td>-122.22</td>\n",
              "      <td>37.86</td>\n",
              "      <td>21</td>\n",
              "      <td>7099</td>\n",
              "      <td>1106.0</td>\n",
              "      <td>2401</td>\n",
              "      <td>1138</td>\n",
              "      <td>8.3014</td>\n",
              "      <td>358500</td>\n",
              "      <td>4</td>\n",
              "    </tr>\n",
              "    <tr>\n",
              "      <th>2</th>\n",
              "      <td>-122.24</td>\n",
              "      <td>37.85</td>\n",
              "      <td>52</td>\n",
              "      <td>1467</td>\n",
              "      <td>190.0</td>\n",
              "      <td>496</td>\n",
              "      <td>177</td>\n",
              "      <td>7.2574</td>\n",
              "      <td>352100</td>\n",
              "      <td>4</td>\n",
              "    </tr>\n",
              "    <tr>\n",
              "      <th>3</th>\n",
              "      <td>-122.25</td>\n",
              "      <td>37.85</td>\n",
              "      <td>52</td>\n",
              "      <td>1274</td>\n",
              "      <td>235.0</td>\n",
              "      <td>558</td>\n",
              "      <td>219</td>\n",
              "      <td>5.6431</td>\n",
              "      <td>341300</td>\n",
              "      <td>4</td>\n",
              "    </tr>\n",
              "    <tr>\n",
              "      <th>4</th>\n",
              "      <td>-122.25</td>\n",
              "      <td>37.85</td>\n",
              "      <td>52</td>\n",
              "      <td>1627</td>\n",
              "      <td>280.0</td>\n",
              "      <td>565</td>\n",
              "      <td>259</td>\n",
              "      <td>3.8462</td>\n",
              "      <td>342200</td>\n",
              "      <td>4</td>\n",
              "    </tr>\n",
              "    <tr>\n",
              "      <th>5</th>\n",
              "      <td>-122.25</td>\n",
              "      <td>37.85</td>\n",
              "      <td>52</td>\n",
              "      <td>919</td>\n",
              "      <td>213.0</td>\n",
              "      <td>413</td>\n",
              "      <td>193</td>\n",
              "      <td>4.0368</td>\n",
              "      <td>269700</td>\n",
              "      <td>4</td>\n",
              "    </tr>\n",
              "    <tr>\n",
              "      <th>6</th>\n",
              "      <td>-122.25</td>\n",
              "      <td>37.84</td>\n",
              "      <td>52</td>\n",
              "      <td>2535</td>\n",
              "      <td>489.0</td>\n",
              "      <td>1094</td>\n",
              "      <td>514</td>\n",
              "      <td>3.6591</td>\n",
              "      <td>299200</td>\n",
              "      <td>4</td>\n",
              "    </tr>\n",
              "    <tr>\n",
              "      <th>7</th>\n",
              "      <td>-122.25</td>\n",
              "      <td>37.84</td>\n",
              "      <td>52</td>\n",
              "      <td>3104</td>\n",
              "      <td>687.0</td>\n",
              "      <td>1157</td>\n",
              "      <td>647</td>\n",
              "      <td>3.1200</td>\n",
              "      <td>241400</td>\n",
              "      <td>4</td>\n",
              "    </tr>\n",
              "    <tr>\n",
              "      <th>8</th>\n",
              "      <td>-122.26</td>\n",
              "      <td>37.84</td>\n",
              "      <td>42</td>\n",
              "      <td>2555</td>\n",
              "      <td>665.0</td>\n",
              "      <td>1206</td>\n",
              "      <td>595</td>\n",
              "      <td>2.0804</td>\n",
              "      <td>226700</td>\n",
              "      <td>4</td>\n",
              "    </tr>\n",
              "    <tr>\n",
              "      <th>9</th>\n",
              "      <td>-122.25</td>\n",
              "      <td>37.84</td>\n",
              "      <td>52</td>\n",
              "      <td>3549</td>\n",
              "      <td>707.0</td>\n",
              "      <td>1551</td>\n",
              "      <td>714</td>\n",
              "      <td>3.6912</td>\n",
              "      <td>261100</td>\n",
              "      <td>4</td>\n",
              "    </tr>\n",
              "  </tbody>\n",
              "</table>\n",
              "</div>\n",
              "    <div class=\"colab-df-buttons\">\n",
              "\n",
              "  <div class=\"colab-df-container\">\n",
              "    <button class=\"colab-df-convert\" onclick=\"convertToInteractive('df-e2e6b6f7-abb4-4613-b202-71351f0510bf')\"\n",
              "            title=\"Convert this dataframe to an interactive table.\"\n",
              "            style=\"display:none;\">\n",
              "\n",
              "  <svg xmlns=\"http://www.w3.org/2000/svg\" height=\"24px\" viewBox=\"0 -960 960 960\">\n",
              "    <path d=\"M120-120v-720h720v720H120Zm60-500h600v-160H180v160Zm220 220h160v-160H400v160Zm0 220h160v-160H400v160ZM180-400h160v-160H180v160Zm440 0h160v-160H620v160ZM180-180h160v-160H180v160Zm440 0h160v-160H620v160Z\"/>\n",
              "  </svg>\n",
              "    </button>\n",
              "\n",
              "  <style>\n",
              "    .colab-df-container {\n",
              "      display:flex;\n",
              "      gap: 12px;\n",
              "    }\n",
              "\n",
              "    .colab-df-convert {\n",
              "      background-color: #E8F0FE;\n",
              "      border: none;\n",
              "      border-radius: 50%;\n",
              "      cursor: pointer;\n",
              "      display: none;\n",
              "      fill: #1967D2;\n",
              "      height: 32px;\n",
              "      padding: 0 0 0 0;\n",
              "      width: 32px;\n",
              "    }\n",
              "\n",
              "    .colab-df-convert:hover {\n",
              "      background-color: #E2EBFA;\n",
              "      box-shadow: 0px 1px 2px rgba(60, 64, 67, 0.3), 0px 1px 3px 1px rgba(60, 64, 67, 0.15);\n",
              "      fill: #174EA6;\n",
              "    }\n",
              "\n",
              "    .colab-df-buttons div {\n",
              "      margin-bottom: 4px;\n",
              "    }\n",
              "\n",
              "    [theme=dark] .colab-df-convert {\n",
              "      background-color: #3B4455;\n",
              "      fill: #D2E3FC;\n",
              "    }\n",
              "\n",
              "    [theme=dark] .colab-df-convert:hover {\n",
              "      background-color: #434B5C;\n",
              "      box-shadow: 0px 1px 3px 1px rgba(0, 0, 0, 0.15);\n",
              "      filter: drop-shadow(0px 1px 2px rgba(0, 0, 0, 0.3));\n",
              "      fill: #FFFFFF;\n",
              "    }\n",
              "  </style>\n",
              "\n",
              "    <script>\n",
              "      const buttonEl =\n",
              "        document.querySelector('#df-e2e6b6f7-abb4-4613-b202-71351f0510bf button.colab-df-convert');\n",
              "      buttonEl.style.display =\n",
              "        google.colab.kernel.accessAllowed ? 'block' : 'none';\n",
              "\n",
              "      async function convertToInteractive(key) {\n",
              "        const element = document.querySelector('#df-e2e6b6f7-abb4-4613-b202-71351f0510bf');\n",
              "        const dataTable =\n",
              "          await google.colab.kernel.invokeFunction('convertToInteractive',\n",
              "                                                    [key], {});\n",
              "        if (!dataTable) return;\n",
              "\n",
              "        const docLinkHtml = 'Like what you see? Visit the ' +\n",
              "          '<a target=\"_blank\" href=https://colab.research.google.com/notebooks/data_table.ipynb>data table notebook</a>'\n",
              "          + ' to learn more about interactive tables.';\n",
              "        element.innerHTML = '';\n",
              "        dataTable['output_type'] = 'display_data';\n",
              "        await google.colab.output.renderOutput(dataTable, element);\n",
              "        const docLink = document.createElement('div');\n",
              "        docLink.innerHTML = docLinkHtml;\n",
              "        element.appendChild(docLink);\n",
              "      }\n",
              "    </script>\n",
              "  </div>\n",
              "\n",
              "\n",
              "<div id=\"df-c5f4da2a-c2ce-4a9b-aa5c-df0fce760ced\">\n",
              "  <button class=\"colab-df-quickchart\" onclick=\"quickchart('df-c5f4da2a-c2ce-4a9b-aa5c-df0fce760ced')\"\n",
              "            title=\"Suggest charts\"\n",
              "            style=\"display:none;\">\n",
              "\n",
              "<svg xmlns=\"http://www.w3.org/2000/svg\" height=\"24px\"viewBox=\"0 0 24 24\"\n",
              "     width=\"24px\">\n",
              "    <g>\n",
              "        <path d=\"M19 3H5c-1.1 0-2 .9-2 2v14c0 1.1.9 2 2 2h14c1.1 0 2-.9 2-2V5c0-1.1-.9-2-2-2zM9 17H7v-7h2v7zm4 0h-2V7h2v10zm4 0h-2v-4h2v4z\"/>\n",
              "    </g>\n",
              "</svg>\n",
              "  </button>\n",
              "\n",
              "<style>\n",
              "  .colab-df-quickchart {\n",
              "      --bg-color: #E8F0FE;\n",
              "      --fill-color: #1967D2;\n",
              "      --hover-bg-color: #E2EBFA;\n",
              "      --hover-fill-color: #174EA6;\n",
              "      --disabled-fill-color: #AAA;\n",
              "      --disabled-bg-color: #DDD;\n",
              "  }\n",
              "\n",
              "  [theme=dark] .colab-df-quickchart {\n",
              "      --bg-color: #3B4455;\n",
              "      --fill-color: #D2E3FC;\n",
              "      --hover-bg-color: #434B5C;\n",
              "      --hover-fill-color: #FFFFFF;\n",
              "      --disabled-bg-color: #3B4455;\n",
              "      --disabled-fill-color: #666;\n",
              "  }\n",
              "\n",
              "  .colab-df-quickchart {\n",
              "    background-color: var(--bg-color);\n",
              "    border: none;\n",
              "    border-radius: 50%;\n",
              "    cursor: pointer;\n",
              "    display: none;\n",
              "    fill: var(--fill-color);\n",
              "    height: 32px;\n",
              "    padding: 0;\n",
              "    width: 32px;\n",
              "  }\n",
              "\n",
              "  .colab-df-quickchart:hover {\n",
              "    background-color: var(--hover-bg-color);\n",
              "    box-shadow: 0 1px 2px rgba(60, 64, 67, 0.3), 0 1px 3px 1px rgba(60, 64, 67, 0.15);\n",
              "    fill: var(--button-hover-fill-color);\n",
              "  }\n",
              "\n",
              "  .colab-df-quickchart-complete:disabled,\n",
              "  .colab-df-quickchart-complete:disabled:hover {\n",
              "    background-color: var(--disabled-bg-color);\n",
              "    fill: var(--disabled-fill-color);\n",
              "    box-shadow: none;\n",
              "  }\n",
              "\n",
              "  .colab-df-spinner {\n",
              "    border: 2px solid var(--fill-color);\n",
              "    border-color: transparent;\n",
              "    border-bottom-color: var(--fill-color);\n",
              "    animation:\n",
              "      spin 1s steps(1) infinite;\n",
              "  }\n",
              "\n",
              "  @keyframes spin {\n",
              "    0% {\n",
              "      border-color: transparent;\n",
              "      border-bottom-color: var(--fill-color);\n",
              "      border-left-color: var(--fill-color);\n",
              "    }\n",
              "    20% {\n",
              "      border-color: transparent;\n",
              "      border-left-color: var(--fill-color);\n",
              "      border-top-color: var(--fill-color);\n",
              "    }\n",
              "    30% {\n",
              "      border-color: transparent;\n",
              "      border-left-color: var(--fill-color);\n",
              "      border-top-color: var(--fill-color);\n",
              "      border-right-color: var(--fill-color);\n",
              "    }\n",
              "    40% {\n",
              "      border-color: transparent;\n",
              "      border-right-color: var(--fill-color);\n",
              "      border-top-color: var(--fill-color);\n",
              "    }\n",
              "    60% {\n",
              "      border-color: transparent;\n",
              "      border-right-color: var(--fill-color);\n",
              "    }\n",
              "    80% {\n",
              "      border-color: transparent;\n",
              "      border-right-color: var(--fill-color);\n",
              "      border-bottom-color: var(--fill-color);\n",
              "    }\n",
              "    90% {\n",
              "      border-color: transparent;\n",
              "      border-bottom-color: var(--fill-color);\n",
              "    }\n",
              "  }\n",
              "</style>\n",
              "\n",
              "  <script>\n",
              "    async function quickchart(key) {\n",
              "      const quickchartButtonEl =\n",
              "        document.querySelector('#' + key + ' button');\n",
              "      quickchartButtonEl.disabled = true;  // To prevent multiple clicks.\n",
              "      quickchartButtonEl.classList.add('colab-df-spinner');\n",
              "      try {\n",
              "        const charts = await google.colab.kernel.invokeFunction(\n",
              "            'suggestCharts', [key], {});\n",
              "      } catch (error) {\n",
              "        console.error('Error during call to suggestCharts:', error);\n",
              "      }\n",
              "      quickchartButtonEl.classList.remove('colab-df-spinner');\n",
              "      quickchartButtonEl.classList.add('colab-df-quickchart-complete');\n",
              "    }\n",
              "    (() => {\n",
              "      let quickchartButtonEl =\n",
              "        document.querySelector('#df-c5f4da2a-c2ce-4a9b-aa5c-df0fce760ced button');\n",
              "      quickchartButtonEl.style.display =\n",
              "        google.colab.kernel.accessAllowed ? 'block' : 'none';\n",
              "    })();\n",
              "  </script>\n",
              "</div>\n",
              "    </div>\n",
              "  </div>\n"
            ],
            "application/vnd.google.colaboratory.intrinsic+json": {
              "type": "dataframe",
              "variable_name": "ca_housing",
              "summary": "{\n  \"name\": \"ca_housing\",\n  \"rows\": 20640,\n  \"fields\": [\n    {\n      \"column\": \"longitude\",\n      \"properties\": {\n        \"dtype\": \"number\",\n        \"std\": 2.003531723502581,\n        \"min\": -124.35,\n        \"max\": -114.31,\n        \"num_unique_values\": 844,\n        \"samples\": [\n          -118.63,\n          -119.86,\n          -121.26\n        ],\n        \"semantic_type\": \"\",\n        \"description\": \"\"\n      }\n    },\n    {\n      \"column\": \"latitude\",\n      \"properties\": {\n        \"dtype\": \"number\",\n        \"std\": 2.1359523974571117,\n        \"min\": 32.54,\n        \"max\": 41.95,\n        \"num_unique_values\": 862,\n        \"samples\": [\n          33.7,\n          34.41,\n          38.24\n        ],\n        \"semantic_type\": \"\",\n        \"description\": \"\"\n      }\n    },\n    {\n      \"column\": \"housing_median_age\",\n      \"properties\": {\n        \"dtype\": \"number\",\n        \"std\": 12,\n        \"min\": 1,\n        \"max\": 52,\n        \"num_unique_values\": 52,\n        \"samples\": [\n          35,\n          25,\n          7\n        ],\n        \"semantic_type\": \"\",\n        \"description\": \"\"\n      }\n    },\n    {\n      \"column\": \"total_rooms\",\n      \"properties\": {\n        \"dtype\": \"number\",\n        \"std\": 2181,\n        \"min\": 2,\n        \"max\": 39320,\n        \"num_unique_values\": 5926,\n        \"samples\": [\n          699,\n          1544,\n          3966\n        ],\n        \"semantic_type\": \"\",\n        \"description\": \"\"\n      }\n    },\n    {\n      \"column\": \"total_bedrooms\",\n      \"properties\": {\n        \"dtype\": \"number\",\n        \"std\": 419.391877921688,\n        \"min\": 1.0,\n        \"max\": 6445.0,\n        \"num_unique_values\": 1923,\n        \"samples\": [\n          1538.0,\n          1298.0,\n          1578.0\n        ],\n        \"semantic_type\": \"\",\n        \"description\": \"\"\n      }\n    },\n    {\n      \"column\": \"population\",\n      \"properties\": {\n        \"dtype\": \"number\",\n        \"std\": 1132,\n        \"min\": 3,\n        \"max\": 35682,\n        \"num_unique_values\": 3888,\n        \"samples\": [\n          4169,\n          636,\n          3367\n        ],\n        \"semantic_type\": \"\",\n        \"description\": \"\"\n      }\n    },\n    {\n      \"column\": \"households\",\n      \"properties\": {\n        \"dtype\": \"number\",\n        \"std\": 382,\n        \"min\": 1,\n        \"max\": 6082,\n        \"num_unique_values\": 1815,\n        \"samples\": [\n          21,\n          750,\n          1447\n        ],\n        \"semantic_type\": \"\",\n        \"description\": \"\"\n      }\n    },\n    {\n      \"column\": \"median_income\",\n      \"properties\": {\n        \"dtype\": \"number\",\n        \"std\": 1.8998217179452732,\n        \"min\": 0.4999,\n        \"max\": 15.0001,\n        \"num_unique_values\": 12928,\n        \"samples\": [\n          5.0286,\n          2.0433,\n          6.1228\n        ],\n        \"semantic_type\": \"\",\n        \"description\": \"\"\n      }\n    },\n    {\n      \"column\": \"median_house_value\",\n      \"properties\": {\n        \"dtype\": \"number\",\n        \"std\": 115395,\n        \"min\": 14999,\n        \"max\": 500001,\n        \"num_unique_values\": 3842,\n        \"samples\": [\n          194300,\n          379000,\n          230100\n        ],\n        \"semantic_type\": \"\",\n        \"description\": \"\"\n      }\n    },\n    {\n      \"column\": \"ocean_proximity\",\n      \"properties\": {\n        \"dtype\": \"date\",\n        \"min\": 1,\n        \"max\": 5,\n        \"num_unique_values\": 5,\n        \"samples\": [\n          1,\n          5,\n          2\n        ],\n        \"semantic_type\": \"\",\n        \"description\": \"\"\n      }\n    }\n  ]\n}"
            }
          },
          "metadata": {},
          "execution_count": 124
        }
      ]
    },
    {
      "cell_type": "code",
      "source": [
        "ca_housing.corr()"
      ],
      "metadata": {
        "colab": {
          "base_uri": "https://localhost:8080/",
          "height": 363
        },
        "id": "7Xl1luWCSv1u",
        "outputId": "c635c20e-bbf6-4996-ed30-5cf2cf9d0b27"
      },
      "execution_count": 125,
      "outputs": [
        {
          "output_type": "execute_result",
          "data": {
            "text/plain": [
              "                    longitude  latitude  housing_median_age  total_rooms  \\\n",
              "longitude            1.000000 -0.924664           -0.108197     0.044568   \n",
              "latitude            -0.924664  1.000000            0.011173    -0.036100   \n",
              "housing_median_age  -0.108197  0.011173            1.000000    -0.361262   \n",
              "total_rooms          0.044568 -0.036100           -0.361262     1.000000   \n",
              "total_bedrooms       0.069120 -0.066484           -0.319026     0.927058   \n",
              "population           0.099773 -0.108785           -0.296244     0.857126   \n",
              "households           0.055310 -0.071035           -0.302916     0.918484   \n",
              "median_income       -0.015176 -0.079809           -0.119034     0.198050   \n",
              "median_house_value  -0.045967 -0.144160            0.105623     0.134153   \n",
              "ocean_proximity     -0.439870  0.390957            0.145163    -0.016309   \n",
              "\n",
              "                    total_bedrooms  population  households  median_income  \\\n",
              "longitude                 0.069120    0.099773    0.055310      -0.015176   \n",
              "latitude                 -0.066484   -0.108785   -0.071035      -0.079809   \n",
              "housing_median_age       -0.319026   -0.296244   -0.302916      -0.119034   \n",
              "total_rooms               0.927058    0.857126    0.918484       0.198050   \n",
              "total_bedrooms            1.000000    0.873535    0.974366      -0.007617   \n",
              "population                0.873535    1.000000    0.907222       0.004834   \n",
              "households                0.974366    0.907222    1.000000       0.013033   \n",
              "median_income            -0.007617    0.004834    0.013033       1.000000   \n",
              "median_house_value        0.049457   -0.024650    0.065843       0.688075   \n",
              "ocean_proximity          -0.021197   -0.083537   -0.027144      -0.039673   \n",
              "\n",
              "                    median_house_value  ocean_proximity  \n",
              "longitude                    -0.045967        -0.439870  \n",
              "latitude                     -0.144160         0.390957  \n",
              "housing_median_age            0.105623         0.145163  \n",
              "total_rooms                   0.134153        -0.016309  \n",
              "total_bedrooms                0.049457        -0.021197  \n",
              "population                   -0.024650        -0.083537  \n",
              "households                    0.065843        -0.027144  \n",
              "median_income                 0.688075        -0.039673  \n",
              "median_house_value            1.000000         0.021732  \n",
              "ocean_proximity               0.021732         1.000000  "
            ],
            "text/html": [
              "\n",
              "  <div id=\"df-ffcbaa02-e8a0-4e5e-902a-67b03d2da399\" class=\"colab-df-container\">\n",
              "    <div>\n",
              "<style scoped>\n",
              "    .dataframe tbody tr th:only-of-type {\n",
              "        vertical-align: middle;\n",
              "    }\n",
              "\n",
              "    .dataframe tbody tr th {\n",
              "        vertical-align: top;\n",
              "    }\n",
              "\n",
              "    .dataframe thead th {\n",
              "        text-align: right;\n",
              "    }\n",
              "</style>\n",
              "<table border=\"1\" class=\"dataframe\">\n",
              "  <thead>\n",
              "    <tr style=\"text-align: right;\">\n",
              "      <th></th>\n",
              "      <th>longitude</th>\n",
              "      <th>latitude</th>\n",
              "      <th>housing_median_age</th>\n",
              "      <th>total_rooms</th>\n",
              "      <th>total_bedrooms</th>\n",
              "      <th>population</th>\n",
              "      <th>households</th>\n",
              "      <th>median_income</th>\n",
              "      <th>median_house_value</th>\n",
              "      <th>ocean_proximity</th>\n",
              "    </tr>\n",
              "  </thead>\n",
              "  <tbody>\n",
              "    <tr>\n",
              "      <th>longitude</th>\n",
              "      <td>1.000000</td>\n",
              "      <td>-0.924664</td>\n",
              "      <td>-0.108197</td>\n",
              "      <td>0.044568</td>\n",
              "      <td>0.069120</td>\n",
              "      <td>0.099773</td>\n",
              "      <td>0.055310</td>\n",
              "      <td>-0.015176</td>\n",
              "      <td>-0.045967</td>\n",
              "      <td>-0.439870</td>\n",
              "    </tr>\n",
              "    <tr>\n",
              "      <th>latitude</th>\n",
              "      <td>-0.924664</td>\n",
              "      <td>1.000000</td>\n",
              "      <td>0.011173</td>\n",
              "      <td>-0.036100</td>\n",
              "      <td>-0.066484</td>\n",
              "      <td>-0.108785</td>\n",
              "      <td>-0.071035</td>\n",
              "      <td>-0.079809</td>\n",
              "      <td>-0.144160</td>\n",
              "      <td>0.390957</td>\n",
              "    </tr>\n",
              "    <tr>\n",
              "      <th>housing_median_age</th>\n",
              "      <td>-0.108197</td>\n",
              "      <td>0.011173</td>\n",
              "      <td>1.000000</td>\n",
              "      <td>-0.361262</td>\n",
              "      <td>-0.319026</td>\n",
              "      <td>-0.296244</td>\n",
              "      <td>-0.302916</td>\n",
              "      <td>-0.119034</td>\n",
              "      <td>0.105623</td>\n",
              "      <td>0.145163</td>\n",
              "    </tr>\n",
              "    <tr>\n",
              "      <th>total_rooms</th>\n",
              "      <td>0.044568</td>\n",
              "      <td>-0.036100</td>\n",
              "      <td>-0.361262</td>\n",
              "      <td>1.000000</td>\n",
              "      <td>0.927058</td>\n",
              "      <td>0.857126</td>\n",
              "      <td>0.918484</td>\n",
              "      <td>0.198050</td>\n",
              "      <td>0.134153</td>\n",
              "      <td>-0.016309</td>\n",
              "    </tr>\n",
              "    <tr>\n",
              "      <th>total_bedrooms</th>\n",
              "      <td>0.069120</td>\n",
              "      <td>-0.066484</td>\n",
              "      <td>-0.319026</td>\n",
              "      <td>0.927058</td>\n",
              "      <td>1.000000</td>\n",
              "      <td>0.873535</td>\n",
              "      <td>0.974366</td>\n",
              "      <td>-0.007617</td>\n",
              "      <td>0.049457</td>\n",
              "      <td>-0.021197</td>\n",
              "    </tr>\n",
              "    <tr>\n",
              "      <th>population</th>\n",
              "      <td>0.099773</td>\n",
              "      <td>-0.108785</td>\n",
              "      <td>-0.296244</td>\n",
              "      <td>0.857126</td>\n",
              "      <td>0.873535</td>\n",
              "      <td>1.000000</td>\n",
              "      <td>0.907222</td>\n",
              "      <td>0.004834</td>\n",
              "      <td>-0.024650</td>\n",
              "      <td>-0.083537</td>\n",
              "    </tr>\n",
              "    <tr>\n",
              "      <th>households</th>\n",
              "      <td>0.055310</td>\n",
              "      <td>-0.071035</td>\n",
              "      <td>-0.302916</td>\n",
              "      <td>0.918484</td>\n",
              "      <td>0.974366</td>\n",
              "      <td>0.907222</td>\n",
              "      <td>1.000000</td>\n",
              "      <td>0.013033</td>\n",
              "      <td>0.065843</td>\n",
              "      <td>-0.027144</td>\n",
              "    </tr>\n",
              "    <tr>\n",
              "      <th>median_income</th>\n",
              "      <td>-0.015176</td>\n",
              "      <td>-0.079809</td>\n",
              "      <td>-0.119034</td>\n",
              "      <td>0.198050</td>\n",
              "      <td>-0.007617</td>\n",
              "      <td>0.004834</td>\n",
              "      <td>0.013033</td>\n",
              "      <td>1.000000</td>\n",
              "      <td>0.688075</td>\n",
              "      <td>-0.039673</td>\n",
              "    </tr>\n",
              "    <tr>\n",
              "      <th>median_house_value</th>\n",
              "      <td>-0.045967</td>\n",
              "      <td>-0.144160</td>\n",
              "      <td>0.105623</td>\n",
              "      <td>0.134153</td>\n",
              "      <td>0.049457</td>\n",
              "      <td>-0.024650</td>\n",
              "      <td>0.065843</td>\n",
              "      <td>0.688075</td>\n",
              "      <td>1.000000</td>\n",
              "      <td>0.021732</td>\n",
              "    </tr>\n",
              "    <tr>\n",
              "      <th>ocean_proximity</th>\n",
              "      <td>-0.439870</td>\n",
              "      <td>0.390957</td>\n",
              "      <td>0.145163</td>\n",
              "      <td>-0.016309</td>\n",
              "      <td>-0.021197</td>\n",
              "      <td>-0.083537</td>\n",
              "      <td>-0.027144</td>\n",
              "      <td>-0.039673</td>\n",
              "      <td>0.021732</td>\n",
              "      <td>1.000000</td>\n",
              "    </tr>\n",
              "  </tbody>\n",
              "</table>\n",
              "</div>\n",
              "    <div class=\"colab-df-buttons\">\n",
              "\n",
              "  <div class=\"colab-df-container\">\n",
              "    <button class=\"colab-df-convert\" onclick=\"convertToInteractive('df-ffcbaa02-e8a0-4e5e-902a-67b03d2da399')\"\n",
              "            title=\"Convert this dataframe to an interactive table.\"\n",
              "            style=\"display:none;\">\n",
              "\n",
              "  <svg xmlns=\"http://www.w3.org/2000/svg\" height=\"24px\" viewBox=\"0 -960 960 960\">\n",
              "    <path d=\"M120-120v-720h720v720H120Zm60-500h600v-160H180v160Zm220 220h160v-160H400v160Zm0 220h160v-160H400v160ZM180-400h160v-160H180v160Zm440 0h160v-160H620v160ZM180-180h160v-160H180v160Zm440 0h160v-160H620v160Z\"/>\n",
              "  </svg>\n",
              "    </button>\n",
              "\n",
              "  <style>\n",
              "    .colab-df-container {\n",
              "      display:flex;\n",
              "      gap: 12px;\n",
              "    }\n",
              "\n",
              "    .colab-df-convert {\n",
              "      background-color: #E8F0FE;\n",
              "      border: none;\n",
              "      border-radius: 50%;\n",
              "      cursor: pointer;\n",
              "      display: none;\n",
              "      fill: #1967D2;\n",
              "      height: 32px;\n",
              "      padding: 0 0 0 0;\n",
              "      width: 32px;\n",
              "    }\n",
              "\n",
              "    .colab-df-convert:hover {\n",
              "      background-color: #E2EBFA;\n",
              "      box-shadow: 0px 1px 2px rgba(60, 64, 67, 0.3), 0px 1px 3px 1px rgba(60, 64, 67, 0.15);\n",
              "      fill: #174EA6;\n",
              "    }\n",
              "\n",
              "    .colab-df-buttons div {\n",
              "      margin-bottom: 4px;\n",
              "    }\n",
              "\n",
              "    [theme=dark] .colab-df-convert {\n",
              "      background-color: #3B4455;\n",
              "      fill: #D2E3FC;\n",
              "    }\n",
              "\n",
              "    [theme=dark] .colab-df-convert:hover {\n",
              "      background-color: #434B5C;\n",
              "      box-shadow: 0px 1px 3px 1px rgba(0, 0, 0, 0.15);\n",
              "      filter: drop-shadow(0px 1px 2px rgba(0, 0, 0, 0.3));\n",
              "      fill: #FFFFFF;\n",
              "    }\n",
              "  </style>\n",
              "\n",
              "    <script>\n",
              "      const buttonEl =\n",
              "        document.querySelector('#df-ffcbaa02-e8a0-4e5e-902a-67b03d2da399 button.colab-df-convert');\n",
              "      buttonEl.style.display =\n",
              "        google.colab.kernel.accessAllowed ? 'block' : 'none';\n",
              "\n",
              "      async function convertToInteractive(key) {\n",
              "        const element = document.querySelector('#df-ffcbaa02-e8a0-4e5e-902a-67b03d2da399');\n",
              "        const dataTable =\n",
              "          await google.colab.kernel.invokeFunction('convertToInteractive',\n",
              "                                                    [key], {});\n",
              "        if (!dataTable) return;\n",
              "\n",
              "        const docLinkHtml = 'Like what you see? Visit the ' +\n",
              "          '<a target=\"_blank\" href=https://colab.research.google.com/notebooks/data_table.ipynb>data table notebook</a>'\n",
              "          + ' to learn more about interactive tables.';\n",
              "        element.innerHTML = '';\n",
              "        dataTable['output_type'] = 'display_data';\n",
              "        await google.colab.output.renderOutput(dataTable, element);\n",
              "        const docLink = document.createElement('div');\n",
              "        docLink.innerHTML = docLinkHtml;\n",
              "        element.appendChild(docLink);\n",
              "      }\n",
              "    </script>\n",
              "  </div>\n",
              "\n",
              "\n",
              "<div id=\"df-21d172b1-45bf-4a72-acef-7fc797f86a63\">\n",
              "  <button class=\"colab-df-quickchart\" onclick=\"quickchart('df-21d172b1-45bf-4a72-acef-7fc797f86a63')\"\n",
              "            title=\"Suggest charts\"\n",
              "            style=\"display:none;\">\n",
              "\n",
              "<svg xmlns=\"http://www.w3.org/2000/svg\" height=\"24px\"viewBox=\"0 0 24 24\"\n",
              "     width=\"24px\">\n",
              "    <g>\n",
              "        <path d=\"M19 3H5c-1.1 0-2 .9-2 2v14c0 1.1.9 2 2 2h14c1.1 0 2-.9 2-2V5c0-1.1-.9-2-2-2zM9 17H7v-7h2v7zm4 0h-2V7h2v10zm4 0h-2v-4h2v4z\"/>\n",
              "    </g>\n",
              "</svg>\n",
              "  </button>\n",
              "\n",
              "<style>\n",
              "  .colab-df-quickchart {\n",
              "      --bg-color: #E8F0FE;\n",
              "      --fill-color: #1967D2;\n",
              "      --hover-bg-color: #E2EBFA;\n",
              "      --hover-fill-color: #174EA6;\n",
              "      --disabled-fill-color: #AAA;\n",
              "      --disabled-bg-color: #DDD;\n",
              "  }\n",
              "\n",
              "  [theme=dark] .colab-df-quickchart {\n",
              "      --bg-color: #3B4455;\n",
              "      --fill-color: #D2E3FC;\n",
              "      --hover-bg-color: #434B5C;\n",
              "      --hover-fill-color: #FFFFFF;\n",
              "      --disabled-bg-color: #3B4455;\n",
              "      --disabled-fill-color: #666;\n",
              "  }\n",
              "\n",
              "  .colab-df-quickchart {\n",
              "    background-color: var(--bg-color);\n",
              "    border: none;\n",
              "    border-radius: 50%;\n",
              "    cursor: pointer;\n",
              "    display: none;\n",
              "    fill: var(--fill-color);\n",
              "    height: 32px;\n",
              "    padding: 0;\n",
              "    width: 32px;\n",
              "  }\n",
              "\n",
              "  .colab-df-quickchart:hover {\n",
              "    background-color: var(--hover-bg-color);\n",
              "    box-shadow: 0 1px 2px rgba(60, 64, 67, 0.3), 0 1px 3px 1px rgba(60, 64, 67, 0.15);\n",
              "    fill: var(--button-hover-fill-color);\n",
              "  }\n",
              "\n",
              "  .colab-df-quickchart-complete:disabled,\n",
              "  .colab-df-quickchart-complete:disabled:hover {\n",
              "    background-color: var(--disabled-bg-color);\n",
              "    fill: var(--disabled-fill-color);\n",
              "    box-shadow: none;\n",
              "  }\n",
              "\n",
              "  .colab-df-spinner {\n",
              "    border: 2px solid var(--fill-color);\n",
              "    border-color: transparent;\n",
              "    border-bottom-color: var(--fill-color);\n",
              "    animation:\n",
              "      spin 1s steps(1) infinite;\n",
              "  }\n",
              "\n",
              "  @keyframes spin {\n",
              "    0% {\n",
              "      border-color: transparent;\n",
              "      border-bottom-color: var(--fill-color);\n",
              "      border-left-color: var(--fill-color);\n",
              "    }\n",
              "    20% {\n",
              "      border-color: transparent;\n",
              "      border-left-color: var(--fill-color);\n",
              "      border-top-color: var(--fill-color);\n",
              "    }\n",
              "    30% {\n",
              "      border-color: transparent;\n",
              "      border-left-color: var(--fill-color);\n",
              "      border-top-color: var(--fill-color);\n",
              "      border-right-color: var(--fill-color);\n",
              "    }\n",
              "    40% {\n",
              "      border-color: transparent;\n",
              "      border-right-color: var(--fill-color);\n",
              "      border-top-color: var(--fill-color);\n",
              "    }\n",
              "    60% {\n",
              "      border-color: transparent;\n",
              "      border-right-color: var(--fill-color);\n",
              "    }\n",
              "    80% {\n",
              "      border-color: transparent;\n",
              "      border-right-color: var(--fill-color);\n",
              "      border-bottom-color: var(--fill-color);\n",
              "    }\n",
              "    90% {\n",
              "      border-color: transparent;\n",
              "      border-bottom-color: var(--fill-color);\n",
              "    }\n",
              "  }\n",
              "</style>\n",
              "\n",
              "  <script>\n",
              "    async function quickchart(key) {\n",
              "      const quickchartButtonEl =\n",
              "        document.querySelector('#' + key + ' button');\n",
              "      quickchartButtonEl.disabled = true;  // To prevent multiple clicks.\n",
              "      quickchartButtonEl.classList.add('colab-df-spinner');\n",
              "      try {\n",
              "        const charts = await google.colab.kernel.invokeFunction(\n",
              "            'suggestCharts', [key], {});\n",
              "      } catch (error) {\n",
              "        console.error('Error during call to suggestCharts:', error);\n",
              "      }\n",
              "      quickchartButtonEl.classList.remove('colab-df-spinner');\n",
              "      quickchartButtonEl.classList.add('colab-df-quickchart-complete');\n",
              "    }\n",
              "    (() => {\n",
              "      let quickchartButtonEl =\n",
              "        document.querySelector('#df-21d172b1-45bf-4a72-acef-7fc797f86a63 button');\n",
              "      quickchartButtonEl.style.display =\n",
              "        google.colab.kernel.accessAllowed ? 'block' : 'none';\n",
              "    })();\n",
              "  </script>\n",
              "</div>\n",
              "    </div>\n",
              "  </div>\n"
            ],
            "application/vnd.google.colaboratory.intrinsic+json": {
              "type": "dataframe",
              "summary": "{\n  \"name\": \"ca_housing\",\n  \"rows\": 10,\n  \"fields\": [\n    {\n      \"column\": \"longitude\",\n      \"properties\": {\n        \"dtype\": \"number\",\n        \"std\": 0.4801955513478015,\n        \"min\": -0.9246644339150368,\n        \"max\": 1.0,\n        \"num_unique_values\": 10,\n        \"samples\": [\n          -0.0459666151179817,\n          -0.9246644339150368,\n          0.09977322287464555\n        ],\n        \"semantic_type\": \"\",\n        \"description\": \"\"\n      }\n    },\n    {\n      \"column\": \"latitude\",\n      \"properties\": {\n        \"dtype\": \"number\",\n        \"std\": 0.4781501913050364,\n        \"min\": -0.9246644339150368,\n        \"max\": 1.0,\n        \"num_unique_values\": 10,\n        \"samples\": [\n          -0.1441602768746574,\n          1.0,\n          -0.10878474737766855\n        ],\n        \"semantic_type\": \"\",\n        \"description\": \"\"\n      }\n    },\n    {\n      \"column\": \"housing_median_age\",\n      \"properties\": {\n        \"dtype\": \"number\",\n        \"std\": 0.40332606773865487,\n        \"min\": -0.3612622012223127,\n        \"max\": 1.0,\n        \"num_unique_values\": 10,\n        \"samples\": [\n          0.10562341249321065,\n          0.011172673530611294,\n          -0.29624423977353637\n        ],\n        \"semantic_type\": \"\",\n        \"description\": \"\"\n      }\n    },\n    {\n      \"column\": \"total_rooms\",\n      \"properties\": {\n        \"dtype\": \"number\",\n        \"std\": 0.5038977089847873,\n        \"min\": -0.3612622012223127,\n        \"max\": 1.0,\n        \"num_unique_values\": 10,\n        \"samples\": [\n          0.1341531138065627,\n          -0.03609959585612548,\n          0.8571259728659829\n        ],\n        \"semantic_type\": \"\",\n        \"description\": \"\"\n      }\n    },\n    {\n      \"column\": \"total_bedrooms\",\n      \"properties\": {\n        \"dtype\": \"number\",\n        \"std\": 0.5244390404011471,\n        \"min\": -0.3190263320309179,\n        \"max\": 1.0,\n        \"num_unique_values\": 10,\n        \"samples\": [\n          0.049456861920854286,\n          -0.06648390559083901,\n          0.8735348611611192\n        ],\n        \"semantic_type\": \"\",\n        \"description\": \"\"\n      }\n    },\n    {\n      \"column\": \"population\",\n      \"properties\": {\n        \"dtype\": \"number\",\n        \"std\": 0.5158721976017546,\n        \"min\": -0.29624423977353637,\n        \"max\": 1.0,\n        \"num_unique_values\": 10,\n        \"samples\": [\n          -0.024649678888894865,\n          -0.10878474737766855,\n          1.0\n        ],\n        \"semantic_type\": \"\",\n        \"description\": \"\"\n      }\n    },\n    {\n      \"column\": \"households\",\n      \"properties\": {\n        \"dtype\": \"number\",\n        \"std\": 0.524175186689645,\n        \"min\": -0.3029160093572136,\n        \"max\": 1.0,\n        \"num_unique_values\": 10,\n        \"samples\": [\n          0.0658426505700564,\n          -0.07103543319190864,\n          0.9072222660959659\n        ],\n        \"semantic_type\": \"\",\n        \"description\": \"\"\n      }\n    },\n    {\n      \"column\": \"median_income\",\n      \"properties\": {\n        \"dtype\": \"number\",\n        \"std\": 0.3749702914200361,\n        \"min\": -0.11903398993785673,\n        \"max\": 1.0,\n        \"num_unique_values\": 10,\n        \"samples\": [\n          0.6880752079585577,\n          -0.0798091274597217,\n          0.004834345627653126\n        ],\n        \"semantic_type\": \"\",\n        \"description\": \"\"\n      }\n    },\n    {\n      \"column\": \"median_house_value\",\n      \"properties\": {\n        \"dtype\": \"number\",\n        \"std\": 0.3637868048675361,\n        \"min\": -0.1441602768746574,\n        \"max\": 1.0,\n        \"num_unique_values\": 10,\n        \"samples\": [\n          1.0,\n          -0.1441602768746574,\n          -0.024649678888894865\n        ],\n        \"semantic_type\": \"\",\n        \"description\": \"\"\n      }\n    },\n    {\n      \"column\": \"ocean_proximity\",\n      \"properties\": {\n        \"dtype\": \"number\",\n        \"std\": 0.3787948638419105,\n        \"min\": -0.4398704778660068,\n        \"max\": 1.0,\n        \"num_unique_values\": 10,\n        \"samples\": [\n          0.02173220425145669,\n          0.39095746810775733,\n          -0.08353653333299939\n        ],\n        \"semantic_type\": \"\",\n        \"description\": \"\"\n      }\n    }\n  ]\n}"
            }
          },
          "metadata": {},
          "execution_count": 125
        }
      ]
    },
    {
      "cell_type": "code",
      "source": [
        "import pandas as pd\n",
        "from sklearn.model_selection import train_test_split\n",
        "from sklearn.linear_model import LogisticRegression\n",
        "from sklearn.metrics import accuracy_score"
      ],
      "metadata": {
        "id": "llfvDe4oZRd1"
      },
      "execution_count": 131,
      "outputs": []
    },
    {
      "cell_type": "code",
      "source": [
        "print(y.unique())  # Уникальные значения в y\n",
        "print(y.isnull().sum())  # Количество пропущенных значений"
      ],
      "metadata": {
        "colab": {
          "base_uri": "https://localhost:8080/",
          "height": 0
        },
        "id": "5Q0DDVUkaIA6",
        "outputId": "3a33d022-f3f9-4904-fd60-2432e858bd71"
      },
      "execution_count": 133,
      "outputs": [
        {
          "output_type": "stream",
          "name": "stdout",
          "text": [
            "['4' '1' '2' '3' '5']\n",
            "0\n"
          ]
        }
      ]
    },
    {
      "cell_type": "code",
      "source": [
        "X = ca_housing.drop('population', axis=1)\n",
        "y = ca_housing['population']\n",
        "\n",
        "y = y.astype(str)\n",
        "\n",
        "X_train, X_test, y_train, y_test = train_test_split(X, y, test_size=0.2, random_state=42)\n",
        "\n",
        "model = LogisticRegression(max_iter=200)\n",
        "model.fit(X_train, y_train)\n",
        "\n",
        "\n",
        "y_pred = model.predict(X_test)\n",
        "\n",
        "print(y_pred[:5])\n",
        "print(y_test.values[:5])\n",
        "print(accuracy_score(y_test, y_pred))"
      ],
      "metadata": {
        "colab": {
          "base_uri": "https://localhost:8080/",
          "height": 0
        },
        "id": "R-mUfLT7Zahw",
        "outputId": "1d11f1af-6f0e-4b16-e1ae-931a01ea346a"
      },
      "execution_count": 144,
      "outputs": [
        {
          "output_type": "stream",
          "name": "stdout",
          "text": [
            "['1341' '5613' '837' '1277' '837']\n",
            "['1392' '1565' '1310' '1705' '1063']\n",
            "0.00024224806201550387\n"
          ]
        },
        {
          "output_type": "stream",
          "name": "stderr",
          "text": [
            "/usr/local/lib/python3.11/dist-packages/sklearn/linear_model/_logistic.py:465: ConvergenceWarning: lbfgs failed to converge (status=1):\n",
            "STOP: TOTAL NO. of ITERATIONS REACHED LIMIT.\n",
            "\n",
            "Increase the number of iterations (max_iter) or scale the data as shown in:\n",
            "    https://scikit-learn.org/stable/modules/preprocessing.html\n",
            "Please also refer to the documentation for alternative solver options:\n",
            "    https://scikit-learn.org/stable/modules/linear_model.html#logistic-regression\n",
            "  n_iter_i = _check_optimize_result(\n"
          ]
        }
      ]
    },
    {
      "cell_type": "code",
      "source": [
        ""
      ],
      "metadata": {
        "id": "dXayJe_daVXN"
      },
      "execution_count": null,
      "outputs": []
    },
    {
      "cell_type": "markdown",
      "metadata": {
        "id": "WOtf-dAeU2A9"
      },
      "source": [
        "\n",
        "\n",
        "---\n",
        "\n"
      ]
    },
    {
      "cell_type": "markdown",
      "metadata": {
        "id": "6gFKXayZSrWt"
      },
      "source": [
        "Grid Search"
      ]
    },
    {
      "cell_type": "markdown",
      "metadata": {
        "id": "jUQfdy1JUG_9"
      },
      "source": [
        "Большинство моделей машинного обучения содержат параметры, которые можно настроить, чтобы изменить способ обучения модели. Например, модель логистической регрессии от sklearn имеет параметр C, который управляет регуляризацией, что влияет на сложность модели.\n",
        "\n",
        "Как мы выбираем лучшее значение для C? Наилучшее значение зависит от данных, используемых для обучения модели."
      ]
    },
    {
      "cell_type": "markdown",
      "metadata": {
        "id": "ls6pYjX9Urtw"
      },
      "source": [
        "Один из методов заключается в том, чтобы попробовать разные значения, а затем выбрать значение, дающее наилучший результат. Этот метод известен как поиск по сетке. Если бы нам нужно было выбрать значения для двух или более параметров, мы бы оценили все комбинации наборов значений, таким образом сформировав сетку значений.\n",
        "\n",
        "Прежде чем мы перейдем к примеру, полезно знать, что делает параметр, который мы изменяем. Более высокие значения C сообщают модели, что обучающие данные напоминают информацию из реального мира, и придают больший вес обучающим данным. В то время как более низкие значения C делают обратное."
      ]
    },
    {
      "cell_type": "code",
      "execution_count": null,
      "metadata": {
        "id": "k5ys-ajwSsFl"
      },
      "outputs": [],
      "source": [
        "from sklearn import datasets\n",
        "from sklearn.linear_model import LogisticRegression\n",
        "\n",
        "iris = datasets.load_iris()\n",
        "\n",
        "X = iris['data']\n",
        "y = iris['target']\n",
        "\n",
        "logit = LogisticRegression(max_iter = 10000)\n",
        "\n",
        "print(logit.fit(X,y))\n",
        "\n",
        "print(logit.score(X,y))"
      ]
    },
    {
      "cell_type": "code",
      "execution_count": null,
      "metadata": {
        "id": "wve336SzS_jl"
      },
      "outputs": [],
      "source": [
        "X = iris['data']\n",
        "y = iris['target']\n",
        "\n",
        "lr = LogisticRegression(max_iter = 10000)\n",
        "\n",
        "C = [0.25, 0.5, 0.75, 1, 1.25, 1.5, 1.75, 2]\n",
        "solvers = ['lbfgs', 'liblinear', 'newton-cg', 'newton-cholesky', 'sag' , 'saga']\n",
        "\n",
        "scores = []\n",
        "best_score = 0.0\n",
        "for solver in solvers:\n",
        "    for choice in C:\n",
        "        lr.set_params(C=choice, solver = solver)\n",
        "        lr.fit(X, y)\n",
        "        score = lr.score(X, y)\n",
        "        if score > best_score:\n",
        "            best_score = score\n",
        "            best_params = [choice, solver]\n"
      ]
    },
    {
      "cell_type": "code",
      "execution_count": null,
      "metadata": {
        "id": "7M5BigzVZDnB"
      },
      "outputs": [],
      "source": [
        "best_score"
      ]
    },
    {
      "cell_type": "code",
      "execution_count": null,
      "metadata": {
        "id": "_DXeiTd8ZFfu"
      },
      "outputs": [],
      "source": [
        "best_params"
      ]
    },
    {
      "cell_type": "code",
      "execution_count": null,
      "metadata": {
        "id": "24PhxD_Riu6N"
      },
      "outputs": [],
      "source": [
        "logit = LogisticRegression(max_iter = 10000, solver = 'lbfgs', C = 1.75)\n",
        "logit.fit(X, y)\n",
        "logit.score(X, y)"
      ]
    },
    {
      "cell_type": "markdown",
      "metadata": {
        "id": "lZEjb8z5c1ke"
      },
      "source": [
        "# Задание №2"
      ]
    },
    {
      "cell_type": "markdown",
      "metadata": {
        "id": "3L6dVWledehN"
      },
      "source": [
        "Wine quality dataset:"
      ]
    },
    {
      "cell_type": "markdown",
      "metadata": {
        "id": "PMjQrp6Cd2Ah"
      },
      "source": [
        "![dataset-cover.jpg](data:image/jpeg;base64,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)"
      ]
    },
    {
      "cell_type": "markdown",
      "metadata": {
        "id": "EIbO25lbdDIi"
      },
      "source": [
        "\n",
        "https://drive.google.com/file/d/14i2TtlcD931sb3-T1zOsgzL-2xggNx3G/view?usp=share_link"
      ]
    },
    {
      "cell_type": "markdown",
      "metadata": {
        "id": "eSybxFDrjmgf"
      },
      "source": [
        "https://www.kaggle.com/datasets/uciml/red-wine-quality-cortez-et-al-2009\n"
      ]
    },
    {
      "cell_type": "code",
      "execution_count": 145,
      "metadata": {
        "id": "v8lI9OTFap-z"
      },
      "outputs": [],
      "source": [
        "wine_df = pd.read_csv('https://drive.google.com/uc?id=14i2TtlcD931sb3-T1zOsgzL-2xggNx3G')"
      ]
    },
    {
      "cell_type": "code",
      "execution_count": 146,
      "metadata": {
        "id": "xj-w3UdLbxkS",
        "colab": {
          "base_uri": "https://localhost:8080/",
          "height": 423
        },
        "outputId": "b6054b0d-9fd5-4464-973e-5916543006bb"
      },
      "outputs": [
        {
          "output_type": "execute_result",
          "data": {
            "text/plain": [
              "       type  fixed acidity  volatile acidity  citric acid  residual sugar  \\\n",
              "0     white            7.0             0.270         0.36            20.7   \n",
              "1     white            6.3             0.300         0.34             1.6   \n",
              "2     white            8.1             0.280         0.40             6.9   \n",
              "3     white            7.2             0.230         0.32             8.5   \n",
              "4     white            7.2             0.230         0.32             8.5   \n",
              "...     ...            ...               ...          ...             ...   \n",
              "6492    red            6.2             0.600         0.08             2.0   \n",
              "6493    red            5.9             0.550         0.10             2.2   \n",
              "6494    red            6.3             0.510         0.13             2.3   \n",
              "6495    red            5.9             0.645         0.12             2.0   \n",
              "6496    red            6.0             0.310         0.47             3.6   \n",
              "\n",
              "      chlorides  free sulfur dioxide  total sulfur dioxide  density    pH  \\\n",
              "0         0.045                 45.0                 170.0  1.00100  3.00   \n",
              "1         0.049                 14.0                 132.0  0.99400  3.30   \n",
              "2         0.050                 30.0                  97.0  0.99510  3.26   \n",
              "3         0.058                 47.0                 186.0  0.99560  3.19   \n",
              "4         0.058                 47.0                 186.0  0.99560  3.19   \n",
              "...         ...                  ...                   ...      ...   ...   \n",
              "6492      0.090                 32.0                  44.0  0.99490  3.45   \n",
              "6493      0.062                 39.0                  51.0  0.99512  3.52   \n",
              "6494      0.076                 29.0                  40.0  0.99574  3.42   \n",
              "6495      0.075                 32.0                  44.0  0.99547  3.57   \n",
              "6496      0.067                 18.0                  42.0  0.99549  3.39   \n",
              "\n",
              "      sulphates  alcohol  quality  \n",
              "0          0.45      8.8        6  \n",
              "1          0.49      9.5        6  \n",
              "2          0.44     10.1        6  \n",
              "3          0.40      9.9        6  \n",
              "4          0.40      9.9        6  \n",
              "...         ...      ...      ...  \n",
              "6492       0.58     10.5        5  \n",
              "6493        NaN     11.2        6  \n",
              "6494       0.75     11.0        6  \n",
              "6495       0.71     10.2        5  \n",
              "6496       0.66     11.0        6  \n",
              "\n",
              "[6497 rows x 13 columns]"
            ],
            "text/html": [
              "\n",
              "  <div id=\"df-8c435b37-d29c-40bb-bc39-888a337286c8\" class=\"colab-df-container\">\n",
              "    <div>\n",
              "<style scoped>\n",
              "    .dataframe tbody tr th:only-of-type {\n",
              "        vertical-align: middle;\n",
              "    }\n",
              "\n",
              "    .dataframe tbody tr th {\n",
              "        vertical-align: top;\n",
              "    }\n",
              "\n",
              "    .dataframe thead th {\n",
              "        text-align: right;\n",
              "    }\n",
              "</style>\n",
              "<table border=\"1\" class=\"dataframe\">\n",
              "  <thead>\n",
              "    <tr style=\"text-align: right;\">\n",
              "      <th></th>\n",
              "      <th>type</th>\n",
              "      <th>fixed acidity</th>\n",
              "      <th>volatile acidity</th>\n",
              "      <th>citric acid</th>\n",
              "      <th>residual sugar</th>\n",
              "      <th>chlorides</th>\n",
              "      <th>free sulfur dioxide</th>\n",
              "      <th>total sulfur dioxide</th>\n",
              "      <th>density</th>\n",
              "      <th>pH</th>\n",
              "      <th>sulphates</th>\n",
              "      <th>alcohol</th>\n",
              "      <th>quality</th>\n",
              "    </tr>\n",
              "  </thead>\n",
              "  <tbody>\n",
              "    <tr>\n",
              "      <th>0</th>\n",
              "      <td>white</td>\n",
              "      <td>7.0</td>\n",
              "      <td>0.270</td>\n",
              "      <td>0.36</td>\n",
              "      <td>20.7</td>\n",
              "      <td>0.045</td>\n",
              "      <td>45.0</td>\n",
              "      <td>170.0</td>\n",
              "      <td>1.00100</td>\n",
              "      <td>3.00</td>\n",
              "      <td>0.45</td>\n",
              "      <td>8.8</td>\n",
              "      <td>6</td>\n",
              "    </tr>\n",
              "    <tr>\n",
              "      <th>1</th>\n",
              "      <td>white</td>\n",
              "      <td>6.3</td>\n",
              "      <td>0.300</td>\n",
              "      <td>0.34</td>\n",
              "      <td>1.6</td>\n",
              "      <td>0.049</td>\n",
              "      <td>14.0</td>\n",
              "      <td>132.0</td>\n",
              "      <td>0.99400</td>\n",
              "      <td>3.30</td>\n",
              "      <td>0.49</td>\n",
              "      <td>9.5</td>\n",
              "      <td>6</td>\n",
              "    </tr>\n",
              "    <tr>\n",
              "      <th>2</th>\n",
              "      <td>white</td>\n",
              "      <td>8.1</td>\n",
              "      <td>0.280</td>\n",
              "      <td>0.40</td>\n",
              "      <td>6.9</td>\n",
              "      <td>0.050</td>\n",
              "      <td>30.0</td>\n",
              "      <td>97.0</td>\n",
              "      <td>0.99510</td>\n",
              "      <td>3.26</td>\n",
              "      <td>0.44</td>\n",
              "      <td>10.1</td>\n",
              "      <td>6</td>\n",
              "    </tr>\n",
              "    <tr>\n",
              "      <th>3</th>\n",
              "      <td>white</td>\n",
              "      <td>7.2</td>\n",
              "      <td>0.230</td>\n",
              "      <td>0.32</td>\n",
              "      <td>8.5</td>\n",
              "      <td>0.058</td>\n",
              "      <td>47.0</td>\n",
              "      <td>186.0</td>\n",
              "      <td>0.99560</td>\n",
              "      <td>3.19</td>\n",
              "      <td>0.40</td>\n",
              "      <td>9.9</td>\n",
              "      <td>6</td>\n",
              "    </tr>\n",
              "    <tr>\n",
              "      <th>4</th>\n",
              "      <td>white</td>\n",
              "      <td>7.2</td>\n",
              "      <td>0.230</td>\n",
              "      <td>0.32</td>\n",
              "      <td>8.5</td>\n",
              "      <td>0.058</td>\n",
              "      <td>47.0</td>\n",
              "      <td>186.0</td>\n",
              "      <td>0.99560</td>\n",
              "      <td>3.19</td>\n",
              "      <td>0.40</td>\n",
              "      <td>9.9</td>\n",
              "      <td>6</td>\n",
              "    </tr>\n",
              "    <tr>\n",
              "      <th>...</th>\n",
              "      <td>...</td>\n",
              "      <td>...</td>\n",
              "      <td>...</td>\n",
              "      <td>...</td>\n",
              "      <td>...</td>\n",
              "      <td>...</td>\n",
              "      <td>...</td>\n",
              "      <td>...</td>\n",
              "      <td>...</td>\n",
              "      <td>...</td>\n",
              "      <td>...</td>\n",
              "      <td>...</td>\n",
              "      <td>...</td>\n",
              "    </tr>\n",
              "    <tr>\n",
              "      <th>6492</th>\n",
              "      <td>red</td>\n",
              "      <td>6.2</td>\n",
              "      <td>0.600</td>\n",
              "      <td>0.08</td>\n",
              "      <td>2.0</td>\n",
              "      <td>0.090</td>\n",
              "      <td>32.0</td>\n",
              "      <td>44.0</td>\n",
              "      <td>0.99490</td>\n",
              "      <td>3.45</td>\n",
              "      <td>0.58</td>\n",
              "      <td>10.5</td>\n",
              "      <td>5</td>\n",
              "    </tr>\n",
              "    <tr>\n",
              "      <th>6493</th>\n",
              "      <td>red</td>\n",
              "      <td>5.9</td>\n",
              "      <td>0.550</td>\n",
              "      <td>0.10</td>\n",
              "      <td>2.2</td>\n",
              "      <td>0.062</td>\n",
              "      <td>39.0</td>\n",
              "      <td>51.0</td>\n",
              "      <td>0.99512</td>\n",
              "      <td>3.52</td>\n",
              "      <td>NaN</td>\n",
              "      <td>11.2</td>\n",
              "      <td>6</td>\n",
              "    </tr>\n",
              "    <tr>\n",
              "      <th>6494</th>\n",
              "      <td>red</td>\n",
              "      <td>6.3</td>\n",
              "      <td>0.510</td>\n",
              "      <td>0.13</td>\n",
              "      <td>2.3</td>\n",
              "      <td>0.076</td>\n",
              "      <td>29.0</td>\n",
              "      <td>40.0</td>\n",
              "      <td>0.99574</td>\n",
              "      <td>3.42</td>\n",
              "      <td>0.75</td>\n",
              "      <td>11.0</td>\n",
              "      <td>6</td>\n",
              "    </tr>\n",
              "    <tr>\n",
              "      <th>6495</th>\n",
              "      <td>red</td>\n",
              "      <td>5.9</td>\n",
              "      <td>0.645</td>\n",
              "      <td>0.12</td>\n",
              "      <td>2.0</td>\n",
              "      <td>0.075</td>\n",
              "      <td>32.0</td>\n",
              "      <td>44.0</td>\n",
              "      <td>0.99547</td>\n",
              "      <td>3.57</td>\n",
              "      <td>0.71</td>\n",
              "      <td>10.2</td>\n",
              "      <td>5</td>\n",
              "    </tr>\n",
              "    <tr>\n",
              "      <th>6496</th>\n",
              "      <td>red</td>\n",
              "      <td>6.0</td>\n",
              "      <td>0.310</td>\n",
              "      <td>0.47</td>\n",
              "      <td>3.6</td>\n",
              "      <td>0.067</td>\n",
              "      <td>18.0</td>\n",
              "      <td>42.0</td>\n",
              "      <td>0.99549</td>\n",
              "      <td>3.39</td>\n",
              "      <td>0.66</td>\n",
              "      <td>11.0</td>\n",
              "      <td>6</td>\n",
              "    </tr>\n",
              "  </tbody>\n",
              "</table>\n",
              "<p>6497 rows × 13 columns</p>\n",
              "</div>\n",
              "    <div class=\"colab-df-buttons\">\n",
              "\n",
              "  <div class=\"colab-df-container\">\n",
              "    <button class=\"colab-df-convert\" onclick=\"convertToInteractive('df-8c435b37-d29c-40bb-bc39-888a337286c8')\"\n",
              "            title=\"Convert this dataframe to an interactive table.\"\n",
              "            style=\"display:none;\">\n",
              "\n",
              "  <svg xmlns=\"http://www.w3.org/2000/svg\" height=\"24px\" viewBox=\"0 -960 960 960\">\n",
              "    <path d=\"M120-120v-720h720v720H120Zm60-500h600v-160H180v160Zm220 220h160v-160H400v160Zm0 220h160v-160H400v160ZM180-400h160v-160H180v160Zm440 0h160v-160H620v160ZM180-180h160v-160H180v160Zm440 0h160v-160H620v160Z\"/>\n",
              "  </svg>\n",
              "    </button>\n",
              "\n",
              "  <style>\n",
              "    .colab-df-container {\n",
              "      display:flex;\n",
              "      gap: 12px;\n",
              "    }\n",
              "\n",
              "    .colab-df-convert {\n",
              "      background-color: #E8F0FE;\n",
              "      border: none;\n",
              "      border-radius: 50%;\n",
              "      cursor: pointer;\n",
              "      display: none;\n",
              "      fill: #1967D2;\n",
              "      height: 32px;\n",
              "      padding: 0 0 0 0;\n",
              "      width: 32px;\n",
              "    }\n",
              "\n",
              "    .colab-df-convert:hover {\n",
              "      background-color: #E2EBFA;\n",
              "      box-shadow: 0px 1px 2px rgba(60, 64, 67, 0.3), 0px 1px 3px 1px rgba(60, 64, 67, 0.15);\n",
              "      fill: #174EA6;\n",
              "    }\n",
              "\n",
              "    .colab-df-buttons div {\n",
              "      margin-bottom: 4px;\n",
              "    }\n",
              "\n",
              "    [theme=dark] .colab-df-convert {\n",
              "      background-color: #3B4455;\n",
              "      fill: #D2E3FC;\n",
              "    }\n",
              "\n",
              "    [theme=dark] .colab-df-convert:hover {\n",
              "      background-color: #434B5C;\n",
              "      box-shadow: 0px 1px 3px 1px rgba(0, 0, 0, 0.15);\n",
              "      filter: drop-shadow(0px 1px 2px rgba(0, 0, 0, 0.3));\n",
              "      fill: #FFFFFF;\n",
              "    }\n",
              "  </style>\n",
              "\n",
              "    <script>\n",
              "      const buttonEl =\n",
              "        document.querySelector('#df-8c435b37-d29c-40bb-bc39-888a337286c8 button.colab-df-convert');\n",
              "      buttonEl.style.display =\n",
              "        google.colab.kernel.accessAllowed ? 'block' : 'none';\n",
              "\n",
              "      async function convertToInteractive(key) {\n",
              "        const element = document.querySelector('#df-8c435b37-d29c-40bb-bc39-888a337286c8');\n",
              "        const dataTable =\n",
              "          await google.colab.kernel.invokeFunction('convertToInteractive',\n",
              "                                                    [key], {});\n",
              "        if (!dataTable) return;\n",
              "\n",
              "        const docLinkHtml = 'Like what you see? Visit the ' +\n",
              "          '<a target=\"_blank\" href=https://colab.research.google.com/notebooks/data_table.ipynb>data table notebook</a>'\n",
              "          + ' to learn more about interactive tables.';\n",
              "        element.innerHTML = '';\n",
              "        dataTable['output_type'] = 'display_data';\n",
              "        await google.colab.output.renderOutput(dataTable, element);\n",
              "        const docLink = document.createElement('div');\n",
              "        docLink.innerHTML = docLinkHtml;\n",
              "        element.appendChild(docLink);\n",
              "      }\n",
              "    </script>\n",
              "  </div>\n",
              "\n",
              "\n",
              "<div id=\"df-c63c4e13-16a7-4b6e-82c6-55e22cc738fe\">\n",
              "  <button class=\"colab-df-quickchart\" onclick=\"quickchart('df-c63c4e13-16a7-4b6e-82c6-55e22cc738fe')\"\n",
              "            title=\"Suggest charts\"\n",
              "            style=\"display:none;\">\n",
              "\n",
              "<svg xmlns=\"http://www.w3.org/2000/svg\" height=\"24px\"viewBox=\"0 0 24 24\"\n",
              "     width=\"24px\">\n",
              "    <g>\n",
              "        <path d=\"M19 3H5c-1.1 0-2 .9-2 2v14c0 1.1.9 2 2 2h14c1.1 0 2-.9 2-2V5c0-1.1-.9-2-2-2zM9 17H7v-7h2v7zm4 0h-2V7h2v10zm4 0h-2v-4h2v4z\"/>\n",
              "    </g>\n",
              "</svg>\n",
              "  </button>\n",
              "\n",
              "<style>\n",
              "  .colab-df-quickchart {\n",
              "      --bg-color: #E8F0FE;\n",
              "      --fill-color: #1967D2;\n",
              "      --hover-bg-color: #E2EBFA;\n",
              "      --hover-fill-color: #174EA6;\n",
              "      --disabled-fill-color: #AAA;\n",
              "      --disabled-bg-color: #DDD;\n",
              "  }\n",
              "\n",
              "  [theme=dark] .colab-df-quickchart {\n",
              "      --bg-color: #3B4455;\n",
              "      --fill-color: #D2E3FC;\n",
              "      --hover-bg-color: #434B5C;\n",
              "      --hover-fill-color: #FFFFFF;\n",
              "      --disabled-bg-color: #3B4455;\n",
              "      --disabled-fill-color: #666;\n",
              "  }\n",
              "\n",
              "  .colab-df-quickchart {\n",
              "    background-color: var(--bg-color);\n",
              "    border: none;\n",
              "    border-radius: 50%;\n",
              "    cursor: pointer;\n",
              "    display: none;\n",
              "    fill: var(--fill-color);\n",
              "    height: 32px;\n",
              "    padding: 0;\n",
              "    width: 32px;\n",
              "  }\n",
              "\n",
              "  .colab-df-quickchart:hover {\n",
              "    background-color: var(--hover-bg-color);\n",
              "    box-shadow: 0 1px 2px rgba(60, 64, 67, 0.3), 0 1px 3px 1px rgba(60, 64, 67, 0.15);\n",
              "    fill: var(--button-hover-fill-color);\n",
              "  }\n",
              "\n",
              "  .colab-df-quickchart-complete:disabled,\n",
              "  .colab-df-quickchart-complete:disabled:hover {\n",
              "    background-color: var(--disabled-bg-color);\n",
              "    fill: var(--disabled-fill-color);\n",
              "    box-shadow: none;\n",
              "  }\n",
              "\n",
              "  .colab-df-spinner {\n",
              "    border: 2px solid var(--fill-color);\n",
              "    border-color: transparent;\n",
              "    border-bottom-color: var(--fill-color);\n",
              "    animation:\n",
              "      spin 1s steps(1) infinite;\n",
              "  }\n",
              "\n",
              "  @keyframes spin {\n",
              "    0% {\n",
              "      border-color: transparent;\n",
              "      border-bottom-color: var(--fill-color);\n",
              "      border-left-color: var(--fill-color);\n",
              "    }\n",
              "    20% {\n",
              "      border-color: transparent;\n",
              "      border-left-color: var(--fill-color);\n",
              "      border-top-color: var(--fill-color);\n",
              "    }\n",
              "    30% {\n",
              "      border-color: transparent;\n",
              "      border-left-color: var(--fill-color);\n",
              "      border-top-color: var(--fill-color);\n",
              "      border-right-color: var(--fill-color);\n",
              "    }\n",
              "    40% {\n",
              "      border-color: transparent;\n",
              "      border-right-color: var(--fill-color);\n",
              "      border-top-color: var(--fill-color);\n",
              "    }\n",
              "    60% {\n",
              "      border-color: transparent;\n",
              "      border-right-color: var(--fill-color);\n",
              "    }\n",
              "    80% {\n",
              "      border-color: transparent;\n",
              "      border-right-color: var(--fill-color);\n",
              "      border-bottom-color: var(--fill-color);\n",
              "    }\n",
              "    90% {\n",
              "      border-color: transparent;\n",
              "      border-bottom-color: var(--fill-color);\n",
              "    }\n",
              "  }\n",
              "</style>\n",
              "\n",
              "  <script>\n",
              "    async function quickchart(key) {\n",
              "      const quickchartButtonEl =\n",
              "        document.querySelector('#' + key + ' button');\n",
              "      quickchartButtonEl.disabled = true;  // To prevent multiple clicks.\n",
              "      quickchartButtonEl.classList.add('colab-df-spinner');\n",
              "      try {\n",
              "        const charts = await google.colab.kernel.invokeFunction(\n",
              "            'suggestCharts', [key], {});\n",
              "      } catch (error) {\n",
              "        console.error('Error during call to suggestCharts:', error);\n",
              "      }\n",
              "      quickchartButtonEl.classList.remove('colab-df-spinner');\n",
              "      quickchartButtonEl.classList.add('colab-df-quickchart-complete');\n",
              "    }\n",
              "    (() => {\n",
              "      let quickchartButtonEl =\n",
              "        document.querySelector('#df-c63c4e13-16a7-4b6e-82c6-55e22cc738fe button');\n",
              "      quickchartButtonEl.style.display =\n",
              "        google.colab.kernel.accessAllowed ? 'block' : 'none';\n",
              "    })();\n",
              "  </script>\n",
              "</div>\n",
              "    </div>\n",
              "  </div>\n"
            ],
            "application/vnd.google.colaboratory.intrinsic+json": {
              "type": "dataframe",
              "variable_name": "wine_df",
              "summary": "{\n  \"name\": \"wine_df\",\n  \"rows\": 6497,\n  \"fields\": [\n    {\n      \"column\": \"type\",\n      \"properties\": {\n        \"dtype\": \"category\",\n        \"num_unique_values\": 2,\n        \"samples\": [\n          \"red\",\n          \"white\"\n        ],\n        \"semantic_type\": \"\",\n        \"description\": \"\"\n      }\n    },\n    {\n      \"column\": \"fixed acidity\",\n      \"properties\": {\n        \"dtype\": \"number\",\n        \"std\": 1.2967498565264803,\n        \"min\": 3.8,\n        \"max\": 15.9,\n        \"num_unique_values\": 106,\n        \"samples\": [\n          14.3,\n          6.5\n        ],\n        \"semantic_type\": \"\",\n        \"description\": \"\"\n      }\n    },\n    {\n      \"column\": \"volatile acidity\",\n      \"properties\": {\n        \"dtype\": \"number\",\n        \"std\": 0.16464902864429293,\n        \"min\": 0.08,\n        \"max\": 1.58,\n        \"num_unique_values\": 187,\n        \"samples\": [\n          0.895,\n          0.655\n        ],\n        \"semantic_type\": \"\",\n        \"description\": \"\"\n      }\n    },\n    {\n      \"column\": \"citric acid\",\n      \"properties\": {\n        \"dtype\": \"number\",\n        \"std\": 0.14526480053397803,\n        \"min\": 0.0,\n        \"max\": 1.66,\n        \"num_unique_values\": 89,\n        \"samples\": [\n          0.45,\n          0.51\n        ],\n        \"semantic_type\": \"\",\n        \"description\": \"\"\n      }\n    },\n    {\n      \"column\": \"residual sugar\",\n      \"properties\": {\n        \"dtype\": \"number\",\n        \"std\": 4.758124742672707,\n        \"min\": 0.6,\n        \"max\": 65.8,\n        \"num_unique_values\": 316,\n        \"samples\": [\n          14.7,\n          4.9\n        ],\n        \"semantic_type\": \"\",\n        \"description\": \"\"\n      }\n    },\n    {\n      \"column\": \"chlorides\",\n      \"properties\": {\n        \"dtype\": \"number\",\n        \"std\": 0.03503602522758969,\n        \"min\": 0.009,\n        \"max\": 0.611,\n        \"num_unique_values\": 214,\n        \"samples\": [\n          0.046,\n          0.387\n        ],\n        \"semantic_type\": \"\",\n        \"description\": \"\"\n      }\n    },\n    {\n      \"column\": \"free sulfur dioxide\",\n      \"properties\": {\n        \"dtype\": \"number\",\n        \"std\": 17.749399772002565,\n        \"min\": 1.0,\n        \"max\": 289.0,\n        \"num_unique_values\": 135,\n        \"samples\": [\n          146.5,\n          64.5\n        ],\n        \"semantic_type\": \"\",\n        \"description\": \"\"\n      }\n    },\n    {\n      \"column\": \"total sulfur dioxide\",\n      \"properties\": {\n        \"dtype\": \"number\",\n        \"std\": 56.52185452263032,\n        \"min\": 6.0,\n        \"max\": 440.0,\n        \"num_unique_values\": 276,\n        \"samples\": [\n          158.0,\n          194.0\n        ],\n        \"semantic_type\": \"\",\n        \"description\": \"\"\n      }\n    },\n    {\n      \"column\": \"density\",\n      \"properties\": {\n        \"dtype\": \"number\",\n        \"std\": 0.002998673003719037,\n        \"min\": 0.98711,\n        \"max\": 1.03898,\n        \"num_unique_values\": 998,\n        \"samples\": [\n          0.99144,\n          0.99734\n        ],\n        \"semantic_type\": \"\",\n        \"description\": \"\"\n      }\n    },\n    {\n      \"column\": \"pH\",\n      \"properties\": {\n        \"dtype\": \"number\",\n        \"std\": 0.16074830655088293,\n        \"min\": 2.72,\n        \"max\": 4.01,\n        \"num_unique_values\": 108,\n        \"samples\": [\n          2.74,\n          3.25\n        ],\n        \"semantic_type\": \"\",\n        \"description\": \"\"\n      }\n    },\n    {\n      \"column\": \"sulphates\",\n      \"properties\": {\n        \"dtype\": \"number\",\n        \"std\": 0.14881412131628308,\n        \"min\": 0.22,\n        \"max\": 2.0,\n        \"num_unique_values\": 111,\n        \"samples\": [\n          1.08,\n          0.55\n        ],\n        \"semantic_type\": \"\",\n        \"description\": \"\"\n      }\n    },\n    {\n      \"column\": \"alcohol\",\n      \"properties\": {\n        \"dtype\": \"number\",\n        \"std\": 1.1927117488689747,\n        \"min\": 8.0,\n        \"max\": 14.9,\n        \"num_unique_values\": 111,\n        \"samples\": [\n          12.33333333,\n          11.4\n        ],\n        \"semantic_type\": \"\",\n        \"description\": \"\"\n      }\n    },\n    {\n      \"column\": \"quality\",\n      \"properties\": {\n        \"dtype\": \"number\",\n        \"std\": 0,\n        \"min\": 3,\n        \"max\": 9,\n        \"num_unique_values\": 7,\n        \"samples\": [\n          6,\n          5\n        ],\n        \"semantic_type\": \"\",\n        \"description\": \"\"\n      }\n    }\n  ]\n}"
            }
          },
          "metadata": {},
          "execution_count": 146
        }
      ],
      "source": [
        "wine_df"
      ]
    },
    {
      "cell_type": "code",
      "execution_count": 155,
      "metadata": {
        "id": "f8vwLM6kcFCQ",
        "colab": {
          "base_uri": "https://localhost:8080/",
          "height": 178
        },
        "outputId": "d448b080-fd09-45aa-f5f3-c042eccda646"
      },
      "outputs": [
        {
          "output_type": "execute_result",
          "data": {
            "text/plain": [
              "type\n",
              "white    4898\n",
              "red      1599\n",
              "Name: count, dtype: int64"
            ],
            "text/html": [
              "<div>\n",
              "<style scoped>\n",
              "    .dataframe tbody tr th:only-of-type {\n",
              "        vertical-align: middle;\n",
              "    }\n",
              "\n",
              "    .dataframe tbody tr th {\n",
              "        vertical-align: top;\n",
              "    }\n",
              "\n",
              "    .dataframe thead th {\n",
              "        text-align: right;\n",
              "    }\n",
              "</style>\n",
              "<table border=\"1\" class=\"dataframe\">\n",
              "  <thead>\n",
              "    <tr style=\"text-align: right;\">\n",
              "      <th></th>\n",
              "      <th>count</th>\n",
              "    </tr>\n",
              "    <tr>\n",
              "      <th>type</th>\n",
              "      <th></th>\n",
              "    </tr>\n",
              "  </thead>\n",
              "  <tbody>\n",
              "    <tr>\n",
              "      <th>white</th>\n",
              "      <td>4898</td>\n",
              "    </tr>\n",
              "    <tr>\n",
              "      <th>red</th>\n",
              "      <td>1599</td>\n",
              "    </tr>\n",
              "  </tbody>\n",
              "</table>\n",
              "</div><br><label><b>dtype:</b> int64</label>"
            ]
          },
          "metadata": {},
          "execution_count": 155
        }
      ],
      "source": [
        "wine_df.quality.value_counts()\n",
        "wine_df.type.value_counts()"
      ]
    },
    {
      "cell_type": "markdown",
      "metadata": {
        "id": "FCGNhAf6czlo"
      },
      "source": [
        "https://scikit-learn.org/1.5/index.html"
      ]
    },
    {
      "cell_type": "markdown",
      "metadata": {
        "id": "sX2mGZdHe8PJ"
      },
      "source": [
        "1. Загрузить и очистить датасет\n",
        "2. Решить вопрос с пропущенными значениями.\n",
        "3. Построить матрицу корреляции\n"
      ]
    },
    {
      "cell_type": "markdown",
      "metadata": {
        "id": "kfgQhH8Cc69_"
      },
      "source": [
        "4. Выделить целевую переменную quality, разделить на обучающие и тестовые выборки\n",
        "5. Реализовать произвольный алгоритм регрессии использовать GridSearch\n",
        "6. Посчитать r2 score"
      ]
    },
    {
      "cell_type": "code",
      "execution_count": 151,
      "metadata": {
        "id": "6N4f2A1knrVJ",
        "colab": {
          "base_uri": "https://localhost:8080/",
          "height": 0
        },
        "outputId": "9977ff74-ccb9-4764-c42b-f6a6f03ae34e"
      },
      "outputs": [
        {
          "output_type": "stream",
          "name": "stdout",
          "text": [
            "    type  fixed acidity  volatile acidity  citric acid  residual sugar  \\\n",
            "0  white            7.0              0.27         0.36            20.7   \n",
            "1  white            6.3              0.30         0.34             1.6   \n",
            "2  white            8.1              0.28         0.40             6.9   \n",
            "3  white            7.2              0.23         0.32             8.5   \n",
            "4  white            7.2              0.23         0.32             8.5   \n",
            "\n",
            "   chlorides  free sulfur dioxide  total sulfur dioxide  density    pH  \\\n",
            "0      0.045                 45.0                 170.0   1.0010  3.00   \n",
            "1      0.049                 14.0                 132.0   0.9940  3.30   \n",
            "2      0.050                 30.0                  97.0   0.9951  3.26   \n",
            "3      0.058                 47.0                 186.0   0.9956  3.19   \n",
            "4      0.058                 47.0                 186.0   0.9956  3.19   \n",
            "\n",
            "   sulphates  alcohol  quality  \n",
            "0       0.45      8.8        6  \n",
            "1       0.49      9.5        6  \n",
            "2       0.44     10.1        6  \n",
            "3       0.40      9.9        6  \n",
            "4       0.40      9.9        6   \n",
            "\n",
            "type                     0\n",
            "fixed acidity           10\n",
            "volatile acidity         8\n",
            "citric acid              3\n",
            "residual sugar           2\n",
            "chlorides                2\n",
            "free sulfur dioxide      0\n",
            "total sulfur dioxide     0\n",
            "density                  0\n",
            "pH                       9\n",
            "sulphates                4\n",
            "alcohol                  0\n",
            "quality                  0\n",
            "dtype: int64\n"
          ]
        }
      ],
      "source": [
        "import pandas as pd\n",
        "import numpy as np\n",
        "\n",
        "url = 'https://drive.google.com/uc?id=14i2TtlcD931sb3-T1zOsgzL-2xggNx3G'\n",
        "wine_df = pd.read_csv(url)\n",
        "\n",
        "print(wine_df.head(), '\\n')\n",
        "print(wine_df.isnull().sum())"
      ]
    },
    {
      "cell_type": "code",
      "source": [
        "for column in wine_df.columns:\n",
        "    if wine_df[column].isnull().sum() > 0:\n",
        "        wine_df[column] = wine_df[column].fillna(wine_df[column].mean())\n",
        "\n",
        "print(wine_df.isnull().sum())"
      ],
      "metadata": {
        "colab": {
          "base_uri": "https://localhost:8080/",
          "height": 0
        },
        "id": "8uWhoHWki0Qc",
        "outputId": "61f13a3c-b51f-42ab-8524-fe317b3d9c97"
      },
      "execution_count": 152,
      "outputs": [
        {
          "output_type": "stream",
          "name": "stdout",
          "text": [
            "type                    0\n",
            "fixed acidity           0\n",
            "volatile acidity        0\n",
            "citric acid             0\n",
            "residual sugar          0\n",
            "chlorides               0\n",
            "free sulfur dioxide     0\n",
            "total sulfur dioxide    0\n",
            "density                 0\n",
            "pH                      0\n",
            "sulphates               0\n",
            "alcohol                 0\n",
            "quality                 0\n",
            "dtype: int64\n"
          ]
        }
      ]
    },
    {
      "cell_type": "code",
      "source": [
        "wine_df['type'] = wine_df['type'].map({'white': 0, 'red': 1})\n",
        "\n",
        "wine_df.head(10)"
      ],
      "metadata": {
        "colab": {
          "base_uri": "https://localhost:8080/",
          "height": 363
        },
        "id": "-9ihT9ssjalF",
        "outputId": "150775ee-3d25-460a-ba66-a9f15b7c71af"
      },
      "execution_count": 156,
      "outputs": [
        {
          "output_type": "execute_result",
          "data": {
            "text/plain": [
              "   type  fixed acidity  volatile acidity  citric acid  residual sugar  \\\n",
              "0     0            7.0              0.27         0.36            20.7   \n",
              "1     0            6.3              0.30         0.34             1.6   \n",
              "2     0            8.1              0.28         0.40             6.9   \n",
              "3     0            7.2              0.23         0.32             8.5   \n",
              "4     0            7.2              0.23         0.32             8.5   \n",
              "5     0            8.1              0.28         0.40             6.9   \n",
              "6     0            6.2              0.32         0.16             7.0   \n",
              "7     0            7.0              0.27         0.36            20.7   \n",
              "8     0            6.3              0.30         0.34             1.6   \n",
              "9     0            8.1              0.22         0.43             1.5   \n",
              "\n",
              "   chlorides  free sulfur dioxide  total sulfur dioxide  density    pH  \\\n",
              "0      0.045                 45.0                 170.0   1.0010  3.00   \n",
              "1      0.049                 14.0                 132.0   0.9940  3.30   \n",
              "2      0.050                 30.0                  97.0   0.9951  3.26   \n",
              "3      0.058                 47.0                 186.0   0.9956  3.19   \n",
              "4      0.058                 47.0                 186.0   0.9956  3.19   \n",
              "5      0.050                 30.0                  97.0   0.9951  3.26   \n",
              "6      0.045                 30.0                 136.0   0.9949  3.18   \n",
              "7      0.045                 45.0                 170.0   1.0010  3.00   \n",
              "8      0.049                 14.0                 132.0   0.9940  3.30   \n",
              "9      0.044                 28.0                 129.0   0.9938  3.22   \n",
              "\n",
              "   sulphates  alcohol  quality  \n",
              "0       0.45      8.8        6  \n",
              "1       0.49      9.5        6  \n",
              "2       0.44     10.1        6  \n",
              "3       0.40      9.9        6  \n",
              "4       0.40      9.9        6  \n",
              "5       0.44     10.1        6  \n",
              "6       0.47      9.6        6  \n",
              "7       0.45      8.8        6  \n",
              "8       0.49      9.5        6  \n",
              "9       0.45     11.0        6  "
            ],
            "text/html": [
              "\n",
              "  <div id=\"df-c224ab68-5ae6-4d45-9c17-1a3349813dd7\" class=\"colab-df-container\">\n",
              "    <div>\n",
              "<style scoped>\n",
              "    .dataframe tbody tr th:only-of-type {\n",
              "        vertical-align: middle;\n",
              "    }\n",
              "\n",
              "    .dataframe tbody tr th {\n",
              "        vertical-align: top;\n",
              "    }\n",
              "\n",
              "    .dataframe thead th {\n",
              "        text-align: right;\n",
              "    }\n",
              "</style>\n",
              "<table border=\"1\" class=\"dataframe\">\n",
              "  <thead>\n",
              "    <tr style=\"text-align: right;\">\n",
              "      <th></th>\n",
              "      <th>type</th>\n",
              "      <th>fixed acidity</th>\n",
              "      <th>volatile acidity</th>\n",
              "      <th>citric acid</th>\n",
              "      <th>residual sugar</th>\n",
              "      <th>chlorides</th>\n",
              "      <th>free sulfur dioxide</th>\n",
              "      <th>total sulfur dioxide</th>\n",
              "      <th>density</th>\n",
              "      <th>pH</th>\n",
              "      <th>sulphates</th>\n",
              "      <th>alcohol</th>\n",
              "      <th>quality</th>\n",
              "    </tr>\n",
              "  </thead>\n",
              "  <tbody>\n",
              "    <tr>\n",
              "      <th>0</th>\n",
              "      <td>0</td>\n",
              "      <td>7.0</td>\n",
              "      <td>0.27</td>\n",
              "      <td>0.36</td>\n",
              "      <td>20.7</td>\n",
              "      <td>0.045</td>\n",
              "      <td>45.0</td>\n",
              "      <td>170.0</td>\n",
              "      <td>1.0010</td>\n",
              "      <td>3.00</td>\n",
              "      <td>0.45</td>\n",
              "      <td>8.8</td>\n",
              "      <td>6</td>\n",
              "    </tr>\n",
              "    <tr>\n",
              "      <th>1</th>\n",
              "      <td>0</td>\n",
              "      <td>6.3</td>\n",
              "      <td>0.30</td>\n",
              "      <td>0.34</td>\n",
              "      <td>1.6</td>\n",
              "      <td>0.049</td>\n",
              "      <td>14.0</td>\n",
              "      <td>132.0</td>\n",
              "      <td>0.9940</td>\n",
              "      <td>3.30</td>\n",
              "      <td>0.49</td>\n",
              "      <td>9.5</td>\n",
              "      <td>6</td>\n",
              "    </tr>\n",
              "    <tr>\n",
              "      <th>2</th>\n",
              "      <td>0</td>\n",
              "      <td>8.1</td>\n",
              "      <td>0.28</td>\n",
              "      <td>0.40</td>\n",
              "      <td>6.9</td>\n",
              "      <td>0.050</td>\n",
              "      <td>30.0</td>\n",
              "      <td>97.0</td>\n",
              "      <td>0.9951</td>\n",
              "      <td>3.26</td>\n",
              "      <td>0.44</td>\n",
              "      <td>10.1</td>\n",
              "      <td>6</td>\n",
              "    </tr>\n",
              "    <tr>\n",
              "      <th>3</th>\n",
              "      <td>0</td>\n",
              "      <td>7.2</td>\n",
              "      <td>0.23</td>\n",
              "      <td>0.32</td>\n",
              "      <td>8.5</td>\n",
              "      <td>0.058</td>\n",
              "      <td>47.0</td>\n",
              "      <td>186.0</td>\n",
              "      <td>0.9956</td>\n",
              "      <td>3.19</td>\n",
              "      <td>0.40</td>\n",
              "      <td>9.9</td>\n",
              "      <td>6</td>\n",
              "    </tr>\n",
              "    <tr>\n",
              "      <th>4</th>\n",
              "      <td>0</td>\n",
              "      <td>7.2</td>\n",
              "      <td>0.23</td>\n",
              "      <td>0.32</td>\n",
              "      <td>8.5</td>\n",
              "      <td>0.058</td>\n",
              "      <td>47.0</td>\n",
              "      <td>186.0</td>\n",
              "      <td>0.9956</td>\n",
              "      <td>3.19</td>\n",
              "      <td>0.40</td>\n",
              "      <td>9.9</td>\n",
              "      <td>6</td>\n",
              "    </tr>\n",
              "    <tr>\n",
              "      <th>5</th>\n",
              "      <td>0</td>\n",
              "      <td>8.1</td>\n",
              "      <td>0.28</td>\n",
              "      <td>0.40</td>\n",
              "      <td>6.9</td>\n",
              "      <td>0.050</td>\n",
              "      <td>30.0</td>\n",
              "      <td>97.0</td>\n",
              "      <td>0.9951</td>\n",
              "      <td>3.26</td>\n",
              "      <td>0.44</td>\n",
              "      <td>10.1</td>\n",
              "      <td>6</td>\n",
              "    </tr>\n",
              "    <tr>\n",
              "      <th>6</th>\n",
              "      <td>0</td>\n",
              "      <td>6.2</td>\n",
              "      <td>0.32</td>\n",
              "      <td>0.16</td>\n",
              "      <td>7.0</td>\n",
              "      <td>0.045</td>\n",
              "      <td>30.0</td>\n",
              "      <td>136.0</td>\n",
              "      <td>0.9949</td>\n",
              "      <td>3.18</td>\n",
              "      <td>0.47</td>\n",
              "      <td>9.6</td>\n",
              "      <td>6</td>\n",
              "    </tr>\n",
              "    <tr>\n",
              "      <th>7</th>\n",
              "      <td>0</td>\n",
              "      <td>7.0</td>\n",
              "      <td>0.27</td>\n",
              "      <td>0.36</td>\n",
              "      <td>20.7</td>\n",
              "      <td>0.045</td>\n",
              "      <td>45.0</td>\n",
              "      <td>170.0</td>\n",
              "      <td>1.0010</td>\n",
              "      <td>3.00</td>\n",
              "      <td>0.45</td>\n",
              "      <td>8.8</td>\n",
              "      <td>6</td>\n",
              "    </tr>\n",
              "    <tr>\n",
              "      <th>8</th>\n",
              "      <td>0</td>\n",
              "      <td>6.3</td>\n",
              "      <td>0.30</td>\n",
              "      <td>0.34</td>\n",
              "      <td>1.6</td>\n",
              "      <td>0.049</td>\n",
              "      <td>14.0</td>\n",
              "      <td>132.0</td>\n",
              "      <td>0.9940</td>\n",
              "      <td>3.30</td>\n",
              "      <td>0.49</td>\n",
              "      <td>9.5</td>\n",
              "      <td>6</td>\n",
              "    </tr>\n",
              "    <tr>\n",
              "      <th>9</th>\n",
              "      <td>0</td>\n",
              "      <td>8.1</td>\n",
              "      <td>0.22</td>\n",
              "      <td>0.43</td>\n",
              "      <td>1.5</td>\n",
              "      <td>0.044</td>\n",
              "      <td>28.0</td>\n",
              "      <td>129.0</td>\n",
              "      <td>0.9938</td>\n",
              "      <td>3.22</td>\n",
              "      <td>0.45</td>\n",
              "      <td>11.0</td>\n",
              "      <td>6</td>\n",
              "    </tr>\n",
              "  </tbody>\n",
              "</table>\n",
              "</div>\n",
              "    <div class=\"colab-df-buttons\">\n",
              "\n",
              "  <div class=\"colab-df-container\">\n",
              "    <button class=\"colab-df-convert\" onclick=\"convertToInteractive('df-c224ab68-5ae6-4d45-9c17-1a3349813dd7')\"\n",
              "            title=\"Convert this dataframe to an interactive table.\"\n",
              "            style=\"display:none;\">\n",
              "\n",
              "  <svg xmlns=\"http://www.w3.org/2000/svg\" height=\"24px\" viewBox=\"0 -960 960 960\">\n",
              "    <path d=\"M120-120v-720h720v720H120Zm60-500h600v-160H180v160Zm220 220h160v-160H400v160Zm0 220h160v-160H400v160ZM180-400h160v-160H180v160Zm440 0h160v-160H620v160ZM180-180h160v-160H180v160Zm440 0h160v-160H620v160Z\"/>\n",
              "  </svg>\n",
              "    </button>\n",
              "\n",
              "  <style>\n",
              "    .colab-df-container {\n",
              "      display:flex;\n",
              "      gap: 12px;\n",
              "    }\n",
              "\n",
              "    .colab-df-convert {\n",
              "      background-color: #E8F0FE;\n",
              "      border: none;\n",
              "      border-radius: 50%;\n",
              "      cursor: pointer;\n",
              "      display: none;\n",
              "      fill: #1967D2;\n",
              "      height: 32px;\n",
              "      padding: 0 0 0 0;\n",
              "      width: 32px;\n",
              "    }\n",
              "\n",
              "    .colab-df-convert:hover {\n",
              "      background-color: #E2EBFA;\n",
              "      box-shadow: 0px 1px 2px rgba(60, 64, 67, 0.3), 0px 1px 3px 1px rgba(60, 64, 67, 0.15);\n",
              "      fill: #174EA6;\n",
              "    }\n",
              "\n",
              "    .colab-df-buttons div {\n",
              "      margin-bottom: 4px;\n",
              "    }\n",
              "\n",
              "    [theme=dark] .colab-df-convert {\n",
              "      background-color: #3B4455;\n",
              "      fill: #D2E3FC;\n",
              "    }\n",
              "\n",
              "    [theme=dark] .colab-df-convert:hover {\n",
              "      background-color: #434B5C;\n",
              "      box-shadow: 0px 1px 3px 1px rgba(0, 0, 0, 0.15);\n",
              "      filter: drop-shadow(0px 1px 2px rgba(0, 0, 0, 0.3));\n",
              "      fill: #FFFFFF;\n",
              "    }\n",
              "  </style>\n",
              "\n",
              "    <script>\n",
              "      const buttonEl =\n",
              "        document.querySelector('#df-c224ab68-5ae6-4d45-9c17-1a3349813dd7 button.colab-df-convert');\n",
              "      buttonEl.style.display =\n",
              "        google.colab.kernel.accessAllowed ? 'block' : 'none';\n",
              "\n",
              "      async function convertToInteractive(key) {\n",
              "        const element = document.querySelector('#df-c224ab68-5ae6-4d45-9c17-1a3349813dd7');\n",
              "        const dataTable =\n",
              "          await google.colab.kernel.invokeFunction('convertToInteractive',\n",
              "                                                    [key], {});\n",
              "        if (!dataTable) return;\n",
              "\n",
              "        const docLinkHtml = 'Like what you see? Visit the ' +\n",
              "          '<a target=\"_blank\" href=https://colab.research.google.com/notebooks/data_table.ipynb>data table notebook</a>'\n",
              "          + ' to learn more about interactive tables.';\n",
              "        element.innerHTML = '';\n",
              "        dataTable['output_type'] = 'display_data';\n",
              "        await google.colab.output.renderOutput(dataTable, element);\n",
              "        const docLink = document.createElement('div');\n",
              "        docLink.innerHTML = docLinkHtml;\n",
              "        element.appendChild(docLink);\n",
              "      }\n",
              "    </script>\n",
              "  </div>\n",
              "\n",
              "\n",
              "<div id=\"df-5dc01274-ec0d-4c15-a145-9a3dc1b5543d\">\n",
              "  <button class=\"colab-df-quickchart\" onclick=\"quickchart('df-5dc01274-ec0d-4c15-a145-9a3dc1b5543d')\"\n",
              "            title=\"Suggest charts\"\n",
              "            style=\"display:none;\">\n",
              "\n",
              "<svg xmlns=\"http://www.w3.org/2000/svg\" height=\"24px\"viewBox=\"0 0 24 24\"\n",
              "     width=\"24px\">\n",
              "    <g>\n",
              "        <path d=\"M19 3H5c-1.1 0-2 .9-2 2v14c0 1.1.9 2 2 2h14c1.1 0 2-.9 2-2V5c0-1.1-.9-2-2-2zM9 17H7v-7h2v7zm4 0h-2V7h2v10zm4 0h-2v-4h2v4z\"/>\n",
              "    </g>\n",
              "</svg>\n",
              "  </button>\n",
              "\n",
              "<style>\n",
              "  .colab-df-quickchart {\n",
              "      --bg-color: #E8F0FE;\n",
              "      --fill-color: #1967D2;\n",
              "      --hover-bg-color: #E2EBFA;\n",
              "      --hover-fill-color: #174EA6;\n",
              "      --disabled-fill-color: #AAA;\n",
              "      --disabled-bg-color: #DDD;\n",
              "  }\n",
              "\n",
              "  [theme=dark] .colab-df-quickchart {\n",
              "      --bg-color: #3B4455;\n",
              "      --fill-color: #D2E3FC;\n",
              "      --hover-bg-color: #434B5C;\n",
              "      --hover-fill-color: #FFFFFF;\n",
              "      --disabled-bg-color: #3B4455;\n",
              "      --disabled-fill-color: #666;\n",
              "  }\n",
              "\n",
              "  .colab-df-quickchart {\n",
              "    background-color: var(--bg-color);\n",
              "    border: none;\n",
              "    border-radius: 50%;\n",
              "    cursor: pointer;\n",
              "    display: none;\n",
              "    fill: var(--fill-color);\n",
              "    height: 32px;\n",
              "    padding: 0;\n",
              "    width: 32px;\n",
              "  }\n",
              "\n",
              "  .colab-df-quickchart:hover {\n",
              "    background-color: var(--hover-bg-color);\n",
              "    box-shadow: 0 1px 2px rgba(60, 64, 67, 0.3), 0 1px 3px 1px rgba(60, 64, 67, 0.15);\n",
              "    fill: var(--button-hover-fill-color);\n",
              "  }\n",
              "\n",
              "  .colab-df-quickchart-complete:disabled,\n",
              "  .colab-df-quickchart-complete:disabled:hover {\n",
              "    background-color: var(--disabled-bg-color);\n",
              "    fill: var(--disabled-fill-color);\n",
              "    box-shadow: none;\n",
              "  }\n",
              "\n",
              "  .colab-df-spinner {\n",
              "    border: 2px solid var(--fill-color);\n",
              "    border-color: transparent;\n",
              "    border-bottom-color: var(--fill-color);\n",
              "    animation:\n",
              "      spin 1s steps(1) infinite;\n",
              "  }\n",
              "\n",
              "  @keyframes spin {\n",
              "    0% {\n",
              "      border-color: transparent;\n",
              "      border-bottom-color: var(--fill-color);\n",
              "      border-left-color: var(--fill-color);\n",
              "    }\n",
              "    20% {\n",
              "      border-color: transparent;\n",
              "      border-left-color: var(--fill-color);\n",
              "      border-top-color: var(--fill-color);\n",
              "    }\n",
              "    30% {\n",
              "      border-color: transparent;\n",
              "      border-left-color: var(--fill-color);\n",
              "      border-top-color: var(--fill-color);\n",
              "      border-right-color: var(--fill-color);\n",
              "    }\n",
              "    40% {\n",
              "      border-color: transparent;\n",
              "      border-right-color: var(--fill-color);\n",
              "      border-top-color: var(--fill-color);\n",
              "    }\n",
              "    60% {\n",
              "      border-color: transparent;\n",
              "      border-right-color: var(--fill-color);\n",
              "    }\n",
              "    80% {\n",
              "      border-color: transparent;\n",
              "      border-right-color: var(--fill-color);\n",
              "      border-bottom-color: var(--fill-color);\n",
              "    }\n",
              "    90% {\n",
              "      border-color: transparent;\n",
              "      border-bottom-color: var(--fill-color);\n",
              "    }\n",
              "  }\n",
              "</style>\n",
              "\n",
              "  <script>\n",
              "    async function quickchart(key) {\n",
              "      const quickchartButtonEl =\n",
              "        document.querySelector('#' + key + ' button');\n",
              "      quickchartButtonEl.disabled = true;  // To prevent multiple clicks.\n",
              "      quickchartButtonEl.classList.add('colab-df-spinner');\n",
              "      try {\n",
              "        const charts = await google.colab.kernel.invokeFunction(\n",
              "            'suggestCharts', [key], {});\n",
              "      } catch (error) {\n",
              "        console.error('Error during call to suggestCharts:', error);\n",
              "      }\n",
              "      quickchartButtonEl.classList.remove('colab-df-spinner');\n",
              "      quickchartButtonEl.classList.add('colab-df-quickchart-complete');\n",
              "    }\n",
              "    (() => {\n",
              "      let quickchartButtonEl =\n",
              "        document.querySelector('#df-5dc01274-ec0d-4c15-a145-9a3dc1b5543d button');\n",
              "      quickchartButtonEl.style.display =\n",
              "        google.colab.kernel.accessAllowed ? 'block' : 'none';\n",
              "    })();\n",
              "  </script>\n",
              "</div>\n",
              "    </div>\n",
              "  </div>\n"
            ],
            "application/vnd.google.colaboratory.intrinsic+json": {
              "type": "dataframe",
              "variable_name": "wine_df",
              "summary": "{\n  \"name\": \"wine_df\",\n  \"rows\": 6497,\n  \"fields\": [\n    {\n      \"column\": \"type\",\n      \"properties\": {\n        \"dtype\": \"number\",\n        \"std\": 0,\n        \"min\": 0,\n        \"max\": 1,\n        \"num_unique_values\": 2,\n        \"samples\": [\n          1,\n          0\n        ],\n        \"semantic_type\": \"\",\n        \"description\": \"\"\n      }\n    },\n    {\n      \"column\": \"fixed acidity\",\n      \"properties\": {\n        \"dtype\": \"number\",\n        \"std\": 1.2957513579903954,\n        \"min\": 3.8,\n        \"max\": 15.9,\n        \"num_unique_values\": 107,\n        \"samples\": [\n          15.0,\n          7.4\n        ],\n        \"semantic_type\": \"\",\n        \"description\": \"\"\n      }\n    },\n    {\n      \"column\": \"volatile acidity\",\n      \"properties\": {\n        \"dtype\": \"number\",\n        \"std\": 0.16454761254064895,\n        \"min\": 0.08,\n        \"max\": 1.58,\n        \"num_unique_values\": 188,\n        \"samples\": [\n          0.79,\n          0.825\n        ],\n        \"semantic_type\": \"\",\n        \"description\": \"\"\n      }\n    },\n    {\n      \"column\": \"citric acid\",\n      \"properties\": {\n        \"dtype\": \"number\",\n        \"std\": 0.1452312533720202,\n        \"min\": 0.0,\n        \"max\": 1.66,\n        \"num_unique_values\": 90,\n        \"samples\": [\n          0.56,\n          0.29\n        ],\n        \"semantic_type\": \"\",\n        \"description\": \"\"\n      }\n    },\n    {\n      \"column\": \"residual sugar\",\n      \"properties\": {\n        \"dtype\": \"number\",\n        \"std\": 4.757392216343576,\n        \"min\": 0.6,\n        \"max\": 65.8,\n        \"num_unique_values\": 317,\n        \"samples\": [\n          4.1,\n          6.95\n        ],\n        \"semantic_type\": \"\",\n        \"description\": \"\"\n      }\n    },\n    {\n      \"column\": \"chlorides\",\n      \"properties\": {\n        \"dtype\": \"number\",\n        \"std\": 0.035030631335597515,\n        \"min\": 0.009,\n        \"max\": 0.611,\n        \"num_unique_values\": 215,\n        \"samples\": [\n          0.243,\n          0.205\n        ],\n        \"semantic_type\": \"\",\n        \"description\": \"\"\n      }\n    },\n    {\n      \"column\": \"free sulfur dioxide\",\n      \"properties\": {\n        \"dtype\": \"number\",\n        \"std\": 17.749399772002565,\n        \"min\": 1.0,\n        \"max\": 289.0,\n        \"num_unique_values\": 135,\n        \"samples\": [\n          146.5,\n          64.5\n        ],\n        \"semantic_type\": \"\",\n        \"description\": \"\"\n      }\n    },\n    {\n      \"column\": \"total sulfur dioxide\",\n      \"properties\": {\n        \"dtype\": \"number\",\n        \"std\": 56.52185452263032,\n        \"min\": 6.0,\n        \"max\": 440.0,\n        \"num_unique_values\": 276,\n        \"samples\": [\n          158.0,\n          194.0\n        ],\n        \"semantic_type\": \"\",\n        \"description\": \"\"\n      }\n    },\n    {\n      \"column\": \"density\",\n      \"properties\": {\n        \"dtype\": \"number\",\n        \"std\": 0.002998673003719037,\n        \"min\": 0.98711,\n        \"max\": 1.03898,\n        \"num_unique_values\": 998,\n        \"samples\": [\n          0.99144,\n          0.99734\n        ],\n        \"semantic_type\": \"\",\n        \"description\": \"\"\n      }\n    },\n    {\n      \"column\": \"pH\",\n      \"properties\": {\n        \"dtype\": \"number\",\n        \"std\": 0.16063691213835535,\n        \"min\": 2.72,\n        \"max\": 4.01,\n        \"num_unique_values\": 109,\n        \"samples\": [\n          2.74,\n          3.25\n        ],\n        \"semantic_type\": \"\",\n        \"description\": \"\"\n      }\n    },\n    {\n      \"column\": \"sulphates\",\n      \"properties\": {\n        \"dtype\": \"number\",\n        \"std\": 0.1487682971053997,\n        \"min\": 0.22,\n        \"max\": 2.0,\n        \"num_unique_values\": 112,\n        \"samples\": [\n          0.68,\n          0.86\n        ],\n        \"semantic_type\": \"\",\n        \"description\": \"\"\n      }\n    },\n    {\n      \"column\": \"alcohol\",\n      \"properties\": {\n        \"dtype\": \"number\",\n        \"std\": 1.1927117488689747,\n        \"min\": 8.0,\n        \"max\": 14.9,\n        \"num_unique_values\": 111,\n        \"samples\": [\n          12.33333333,\n          11.4\n        ],\n        \"semantic_type\": \"\",\n        \"description\": \"\"\n      }\n    },\n    {\n      \"column\": \"quality\",\n      \"properties\": {\n        \"dtype\": \"number\",\n        \"std\": 0,\n        \"min\": 3,\n        \"max\": 9,\n        \"num_unique_values\": 7,\n        \"samples\": [\n          6,\n          5\n        ],\n        \"semantic_type\": \"\",\n        \"description\": \"\"\n      }\n    }\n  ]\n}"
            }
          },
          "metadata": {},
          "execution_count": 156
        }
      ]
    },
    {
      "cell_type": "code",
      "source": [
        "import seaborn as sns\n",
        "import matplotlib.pyplot as plt\n",
        "corr_matrix = wine_df.corr()\n",
        "\n",
        "plt.figure(figsize=(12, 8))\n",
        "sns.heatmap(corr_matrix, annot=True, cmap='coolwarm', fmt='.2f')\n",
        "plt.title('Матрица корреляции')\n",
        "plt.show()"
      ],
      "metadata": {
        "colab": {
          "base_uri": "https://localhost:8080/",
          "height": 815
        },
        "id": "LMkZ9U6SjF9d",
        "outputId": "fa4b9adf-a251-4730-9ad4-a9d3bace9837"
      },
      "execution_count": 157,
      "outputs": [
        {
          "output_type": "display_data",
          "data": {
            "text/plain": [
              "<Figure size 1200x800 with 2 Axes>"
            ],
            "image/png": "[encoded data removed]"
          },
          "metadata": {}
        }
      ]
    },
    {
      "cell_type": "code",
      "source": [
        "from sklearn.preprocessing import StandardScaler\n",
        "X = wine_df.drop(columns=['quality'])\n",
        "\n",
        "scaler = StandardScaler()\n",
        "X_scaled = scaler.fit_transform(X)\n",
        "\n",
        "X_scaled = pd.DataFrame(X_scaled, columns=X.columns)\n",
        "X_scaled['quality'] = wine_df['quality']\n",
        "\n",
        "print(X_scaled.head())"
      ],
      "metadata": {
        "colab": {
          "base_uri": "https://localhost:8080/",
          "height": 0
        },
        "id": "pqx2Qgk1j6WV",
        "outputId": "51848192-7920-4128-a701-2ba1254534e6"
      },
      "execution_count": 158,
      "outputs": [
        {
          "output_type": "stream",
          "name": "stdout",
          "text": [
            "       type  fixed acidity  volatile acidity  citric acid  residual sugar  \\\n",
            "0 -0.571367      -0.167159         -0.423564     0.284245        3.206977   \n",
            "1 -0.571367      -0.707427         -0.241232     0.146523       -0.808136   \n",
            "2 -0.571367       0.681835         -0.362786     0.559689        0.306005   \n",
            "3 -0.571367      -0.012796         -0.666673     0.008801        0.642350   \n",
            "4 -0.571367      -0.012796         -0.666673     0.008801        0.642350   \n",
            "\n",
            "   chlorides  free sulfur dioxide  total sulfur dioxide   density        pH  \\\n",
            "0  -0.315222             0.815565              0.959976  2.102214 -1.359665   \n",
            "1  -0.201027            -0.931107              0.287618 -0.232332  0.508045   \n",
            "2  -0.172479            -0.029599             -0.331660  0.134525  0.259017   \n",
            "3   0.055911             0.928254              1.243074  0.301278 -0.176782   \n",
            "4   0.055911             0.928254              1.243074  0.301278 -0.176782   \n",
            "\n",
            "   sulphates   alcohol  quality  \n",
            "0  -0.545959 -1.418558        6  \n",
            "1  -0.277064 -0.831615        6  \n",
            "2  -0.613183 -0.328521        6  \n",
            "3  -0.882078 -0.496219        6  \n",
            "4  -0.882078 -0.496219        6  \n"
          ]
        }
      ]
    },
    {
      "cell_type": "code",
      "source": [
        "from sklearn.preprocessing import MinMaxScaler\n",
        "\n",
        "X = wine_df.drop(columns=['quality'])\n",
        "\n",
        "scaler = MinMaxScaler()\n",
        "\n",
        "X_scaled = scaler.fit_transform(X)\n",
        "\n",
        "X_scaled = pd.DataFrame(X_scaled, columns=X.columns)\n",
        "\n",
        "X_scaled['quality'] = wine_df['quality']\n",
        "\n",
        "print(X_scaled.head())"
      ],
      "metadata": {
        "colab": {
          "base_uri": "https://localhost:8080/",
          "height": 0
        },
        "id": "iMz5eBb3kvon",
        "outputId": "29e408d5-1faa-4461-8cbd-5466ed4b9e5f"
      },
      "execution_count": 159,
      "outputs": [
        {
          "output_type": "stream",
          "name": "stdout",
          "text": [
            "   type  fixed acidity  volatile acidity  citric acid  residual sugar  \\\n",
            "0   0.0       0.264463          0.126667     0.216867        0.308282   \n",
            "1   0.0       0.206612          0.146667     0.204819        0.015337   \n",
            "2   0.0       0.355372          0.133333     0.240964        0.096626   \n",
            "3   0.0       0.280992          0.100000     0.192771        0.121166   \n",
            "4   0.0       0.280992          0.100000     0.192771        0.121166   \n",
            "\n",
            "   chlorides  free sulfur dioxide  total sulfur dioxide   density        pH  \\\n",
            "0   0.059801             0.152778              0.377880  0.267785  0.217054   \n",
            "1   0.066445             0.045139              0.290323  0.132832  0.449612   \n",
            "2   0.068106             0.100694              0.209677  0.154039  0.418605   \n",
            "3   0.081395             0.159722              0.414747  0.163678  0.364341   \n",
            "4   0.081395             0.159722              0.414747  0.163678  0.364341   \n",
            "\n",
            "   sulphates   alcohol  quality  \n",
            "0   0.129213  0.115942        6  \n",
            "1   0.151685  0.217391        6  \n",
            "2   0.123596  0.304348        6  \n",
            "3   0.101124  0.275362        6  \n",
            "4   0.101124  0.275362        6  \n"
          ]
        }
      ]
    },
    {
      "cell_type": "code",
      "source": [
        "corr_matrix = X_scaled.corr()\n",
        "\n",
        "plt.figure(figsize=(12, 8))\n",
        "sns.heatmap(corr_matrix, annot=True, cmap='coolwarm', fmt='.2f')\n",
        "plt.title('Матрица корреляции')\n",
        "plt.show()"
      ],
      "metadata": {
        "colab": {
          "base_uri": "https://localhost:8080/",
          "height": 815
        },
        "id": "Ti__KmmTkyJu",
        "outputId": "54341a27-ade5-4aba-ca7a-2372d890bfa8"
      },
      "execution_count": 160,
      "outputs": [
        {
          "output_type": "display_data",
          "data": {
            "text/plain": [
              "<Figure size 1200x800 with 2 Axes>"
            ],
            "image/png": "[encoded data removed]"
          },
          "metadata": {}
        }
      ]
    },
    {
      "cell_type": "code",
      "source": [
        "from sklearn.model_selection import train_test_split\n",
        "\n",
        "X = X_scaled.drop(columns=['quality'])\n",
        "y = X_scaled['quality']\n",
        "\n",
        "X_train, X_test, y_train, y_test = train_test_split(X, y, test_size=0.2, random_state=42)\n",
        "\n",
        "print(X_train.shape, X_test.shape)"
      ],
      "metadata": {
        "colab": {
          "base_uri": "https://localhost:8080/"
        },
        "id": "1zZAETLvlA9E",
        "outputId": "b132aac9-8865-4e6b-9ab3-668c51b33d3e"
      },
      "execution_count": 170,
      "outputs": [
        {
          "output_type": "stream",
          "name": "stdout",
          "text": [
            "(5197, 12) (1300, 12)\n"
          ]
        }
      ]
    },
    {
      "cell_type": "code",
      "source": [
        "from sklearn.ensemble import RandomForestRegressor\n",
        "from sklearn.metrics import r2_score\n",
        "\n",
        "model = RandomForestRegressor(random_state=42)\n",
        "model.fit(X_train, y_train)\n",
        "\n",
        "y_pred = model.predict(X_test)\n",
        "\n",
        "r2 = r2_score(y_test, y_pred)\n",
        "print(r2)"
      ],
      "metadata": {
        "colab": {
          "base_uri": "https://localhost:8080/"
        },
        "id": "PLp_rZJolCiA",
        "outputId": "7bdcc521-ff2b-4408-bf56-2168fa4f9406"
      },
      "execution_count": 171,
      "outputs": [
        {
          "output_type": "stream",
          "name": "stdout",
          "text": [
            "0.5577226117974091\n"
          ]
        }
      ]
    },
    {
      "cell_type": "markdown",
      "metadata": {
        "id": "RAYzpywLn3dn"
      },
      "source": [
        "Линейная регрессия"
      ]
    },
    {
      "cell_type": "code",
      "execution_count": null,
      "metadata": {
        "id": "QdF0roDzFLqt"
      },
      "outputs": [],
      "source": []
    },
    {
      "cell_type": "markdown",
      "metadata": {
        "id": "_QFFbJv8n3dn"
      },
      "source": [
        "Рандомный лес\n"
      ]
    },
    {
      "cell_type": "code",
      "execution_count": null,
      "metadata": {
        "id": "HYNEvmxYH5wS"
      },
      "outputs": [],
      "source": []
    },
    {
      "cell_type": "markdown",
      "metadata": {
        "id": "Ck_pBjwNn3do"
      },
      "source": [
        "Градиентный спуск"
      ]
    },
    {
      "cell_type": "code",
      "execution_count": null,
      "metadata": {
        "id": "qXmNx15wixaD"
      },
      "outputs": [],
      "source": []
    },
    {
      "cell_type": "markdown",
      "metadata": {
        "id": "B_WPHSDZn3do"
      },
      "source": [
        "ElasticNet"
      ]
    },
    {
      "cell_type": "code",
      "execution_count": null,
      "metadata": {
        "id": "7anH4gGpn3do"
      },
      "outputs": [],
      "source": []
    },
    {
      "cell_type": "markdown",
      "metadata": {
        "id": "DmvGv4qHn3do"
      },
      "source": [
        "BayesianRidge"
      ]
    },
    {
      "cell_type": "code",
      "execution_count": null,
      "metadata": {
        "id": "pOHtrspAn3dp"
      },
      "outputs": [],
      "source": []
    }
  ],
  "metadata": {
    "colab": {
      "provenance": []
    },
    "kernelspec": {
      "display_name": "Python 3",
      "name": "python3"
    },
    "language_info": {
      "name": "python"
    }
  },
  "nbformat": 4,
  "nbformat_minor": 0
}